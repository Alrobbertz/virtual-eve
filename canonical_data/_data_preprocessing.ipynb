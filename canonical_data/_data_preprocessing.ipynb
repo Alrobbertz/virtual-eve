{
 "cells": [
  {
   "cell_type": "code",
   "execution_count": 1,
   "id": "f9c07bd3",
   "metadata": {},
   "outputs": [],
   "source": [
    "import datetime\n",
    "import os\n",
    "import re\n",
    "from pathlib import Path\n",
    "\n",
    "import numpy as np\n",
    "import pandas as pd\n",
    "from tqdm import tqdm"
   ]
  },
  {
   "cell_type": "code",
   "execution_count": 2,
   "id": "3cfc07e9",
   "metadata": {},
   "outputs": [],
   "source": [
    "data_root = Path(\"/Users/andrewrobbertz/__SOC_CODE__/_data_/SDO/\")\n",
    "download_dir = data_root / \"downloads\"\n",
    "experiments_dir = data_root / \"experiments\"\n",
    "\n",
    "if not download_dir.exists():\n",
    "    os.makedirs(download_dir, exist_ok=True)\n",
    "\n",
    "if not experiments_dir.exists():\n",
    "    os.makedirs(experiments_dir, exist_ok=True)"
   ]
  },
  {
   "cell_type": "markdown",
   "id": "a7981887",
   "metadata": {},
   "source": [
    "## Download an Inspect AIA Data"
   ]
  },
  {
   "cell_type": "code",
   "execution_count": 3,
   "id": "df9acae5",
   "metadata": {},
   "outputs": [],
   "source": [
    "def parse_sdo_data(file_path):\n",
    "    \"\"\"Parse NASA's Solar Dynamics Observatory data index file into a DataFrame\"\"\"\n",
    "\n",
    "    # Function to convert size string to bytes\n",
    "    def to_bytes(size_str):\n",
    "        parts = size_str.strip().split()\n",
    "        value = float(parts[0])\n",
    "        unit = parts[1]\n",
    "        if unit == \"GB\":\n",
    "            return value * 1024**3\n",
    "        elif unit == \"MB\":\n",
    "            return value * 1024**2\n",
    "        else:\n",
    "            return value\n",
    "\n",
    "    # Read file content\n",
    "    with open(file_path, \"r\") as file:\n",
    "        content = file.read()\n",
    "\n",
    "    # Pattern to match file entries: filename, file number, and size\n",
    "    pattern = r\"([\\w\\._]+\\.tar)\\nFile (\\d+)\\n\\n([\\d\\.]+) ([GMK]B)\\s+[\\w\\._]+\\.tar\"\n",
    "    matches = re.findall(pattern, content)\n",
    "\n",
    "    # Prepare data for DataFrame\n",
    "    data = []\n",
    "    for match in matches:\n",
    "        filename = match[0]\n",
    "        file_number = int(match[1])\n",
    "        size_value = match[2]\n",
    "        size_unit = match[3]\n",
    "        size = f\"{size_value} {size_unit}\"\n",
    "\n",
    "        # Extract components from filename\n",
    "        parts = filename.split(\"_\")\n",
    "        instrument = parts[0]\n",
    "        wavelength = parts[1] if len(parts) > 1 else \"Unknown\"\n",
    "        date = parts[2].replace(\".tar\", \"\") if len(parts) > 2 else \"Unknown\"\n",
    "\n",
    "        # Format date as year-month\n",
    "        if len(date) >= 6:\n",
    "            year = date[:4]\n",
    "            month = date[4:6]\n",
    "            year_month = f\"{year}-{month}\"\n",
    "        else:\n",
    "            year = \"Unknown\"\n",
    "            month = \"Unknown\"\n",
    "            year_month = \"Unknown\"\n",
    "\n",
    "        data.append(\n",
    "            {\n",
    "                \"file_number\": file_number,\n",
    "                \"file_name\": filename,\n",
    "                \"size\": size,\n",
    "                \"size_bytes\": to_bytes(size),\n",
    "                \"instrument\": instrument,\n",
    "                \"wavelength\": wavelength,\n",
    "                \"date\": date,\n",
    "                \"year\": year,\n",
    "                \"month\": month,\n",
    "                \"year_month\": year_month,\n",
    "            }\n",
    "        )\n",
    "\n",
    "    # Create DataFrame and sort by file number\n",
    "    df = pd.DataFrame(data)\n",
    "    df = df.sort_values(\"file_number\").reset_index(drop=True)\n",
    "\n",
    "    return df\n",
    "\n",
    "\n",
    "# Use the function\n",
    "file_path = \"/Users/andrewrobbertz/__SOC_CODE__/_data_/SDO/2012_index.txt\"\n",
    "sdo_df = parse_sdo_data(file_path)"
   ]
  },
  {
   "cell_type": "code",
   "execution_count": 4,
   "id": "ed944a11",
   "metadata": {},
   "outputs": [
    {
     "data": {
      "text/html": [
       "<div>\n",
       "<style scoped>\n",
       "    .dataframe tbody tr th:only-of-type {\n",
       "        vertical-align: middle;\n",
       "    }\n",
       "\n",
       "    .dataframe tbody tr th {\n",
       "        vertical-align: top;\n",
       "    }\n",
       "\n",
       "    .dataframe thead th {\n",
       "        text-align: right;\n",
       "    }\n",
       "</style>\n",
       "<table border=\"1\" class=\"dataframe\">\n",
       "  <thead>\n",
       "    <tr style=\"text-align: right;\">\n",
       "      <th></th>\n",
       "      <th>file_number</th>\n",
       "      <th>file_name</th>\n",
       "      <th>size</th>\n",
       "      <th>size_bytes</th>\n",
       "      <th>instrument</th>\n",
       "      <th>wavelength</th>\n",
       "      <th>date</th>\n",
       "      <th>year</th>\n",
       "      <th>month</th>\n",
       "      <th>year_month</th>\n",
       "    </tr>\n",
       "  </thead>\n",
       "  <tbody>\n",
       "    <tr>\n",
       "      <th>0</th>\n",
       "      <td>1</td>\n",
       "      <td>AIA_0094_201201.tar</td>\n",
       "      <td>6.78 GB</td>\n",
       "      <td>7.279970e+09</td>\n",
       "      <td>AIA</td>\n",
       "      <td>0094</td>\n",
       "      <td>201201</td>\n",
       "      <td>2012</td>\n",
       "      <td>01</td>\n",
       "      <td>2012-01</td>\n",
       "    </tr>\n",
       "    <tr>\n",
       "      <th>1</th>\n",
       "      <td>2</td>\n",
       "      <td>AIA_0094_201202.tar</td>\n",
       "      <td>6.44 GB</td>\n",
       "      <td>6.914897e+09</td>\n",
       "      <td>AIA</td>\n",
       "      <td>0094</td>\n",
       "      <td>201202</td>\n",
       "      <td>2012</td>\n",
       "      <td>02</td>\n",
       "      <td>2012-02</td>\n",
       "    </tr>\n",
       "    <tr>\n",
       "      <th>2</th>\n",
       "      <td>3</td>\n",
       "      <td>AIA_0094_201203.tar</td>\n",
       "      <td>6.18 GB</td>\n",
       "      <td>6.635724e+09</td>\n",
       "      <td>AIA</td>\n",
       "      <td>0094</td>\n",
       "      <td>201203</td>\n",
       "      <td>2012</td>\n",
       "      <td>03</td>\n",
       "      <td>2012-03</td>\n",
       "    </tr>\n",
       "    <tr>\n",
       "      <th>3</th>\n",
       "      <td>4</td>\n",
       "      <td>AIA_0094_201204.tar</td>\n",
       "      <td>6.29 GB</td>\n",
       "      <td>6.753836e+09</td>\n",
       "      <td>AIA</td>\n",
       "      <td>0094</td>\n",
       "      <td>201204</td>\n",
       "      <td>2012</td>\n",
       "      <td>04</td>\n",
       "      <td>2012-04</td>\n",
       "    </tr>\n",
       "    <tr>\n",
       "      <th>4</th>\n",
       "      <td>5</td>\n",
       "      <td>AIA_0094_201205.tar</td>\n",
       "      <td>5.92 GB</td>\n",
       "      <td>6.356552e+09</td>\n",
       "      <td>AIA</td>\n",
       "      <td>0094</td>\n",
       "      <td>201205</td>\n",
       "      <td>2012</td>\n",
       "      <td>05</td>\n",
       "      <td>2012-05</td>\n",
       "    </tr>\n",
       "  </tbody>\n",
       "</table>\n",
       "</div>"
      ],
      "text/plain": [
       "   file_number            file_name     size    size_bytes instrument  \\\n",
       "0            1  AIA_0094_201201.tar  6.78 GB  7.279970e+09        AIA   \n",
       "1            2  AIA_0094_201202.tar  6.44 GB  6.914897e+09        AIA   \n",
       "2            3  AIA_0094_201203.tar  6.18 GB  6.635724e+09        AIA   \n",
       "3            4  AIA_0094_201204.tar  6.29 GB  6.753836e+09        AIA   \n",
       "4            5  AIA_0094_201205.tar  5.92 GB  6.356552e+09        AIA   \n",
       "\n",
       "  wavelength    date  year month year_month  \n",
       "0       0094  201201  2012    01    2012-01  \n",
       "1       0094  201202  2012    02    2012-02  \n",
       "2       0094  201203  2012    03    2012-03  \n",
       "3       0094  201204  2012    04    2012-04  \n",
       "4       0094  201205  2012    05    2012-05  "
      ]
     },
     "execution_count": 4,
     "metadata": {},
     "output_type": "execute_result"
    }
   ],
   "source": [
    "sdo_df.head()"
   ]
  },
  {
   "cell_type": "code",
   "execution_count": 5,
   "id": "642d5e63",
   "metadata": {},
   "outputs": [
    {
     "name": "stdout",
     "output_type": "stream",
     "text": [
      "Total dataset size: 745.23 GB\n"
     ]
    }
   ],
   "source": [
    "total_size_gb = sdo_df[\"size_bytes\"].sum() / (1024**3)\n",
    "print(f\"Total dataset size: {total_size_gb:.2f} GB\")"
   ]
  },
  {
   "cell_type": "code",
   "execution_count": 6,
   "id": "cd946558",
   "metadata": {},
   "outputs": [
    {
     "data": {
      "text/plain": [
       "<Axes: title={'center': 'Instrument Distribution'}, xlabel='instrument'>"
      ]
     },
     "execution_count": 6,
     "metadata": {},
     "output_type": "execute_result"
    },
    {
     "data": {
      "image/png": "[encoded data removed]",
      "text/plain": [
       "<Figure size 640x480 with 1 Axes>"
      ]
     },
     "metadata": {},
     "output_type": "display_data"
    }
   ],
   "source": [
    "sdo_df[\"instrument\"].value_counts().plot(kind=\"bar\", title=\"Instrument Distribution\")"
   ]
  },
  {
   "cell_type": "code",
   "execution_count": 7,
   "id": "5addf934",
   "metadata": {},
   "outputs": [
    {
     "data": {
      "text/plain": [
       "<Axes: title={'center': 'Wavelength Distribution'}, xlabel='wavelength'>"
      ]
     },
     "execution_count": 7,
     "metadata": {},
     "output_type": "execute_result"
    },
    {
     "data": {
      "image/png": "[encoded data removed]",
      "text/plain": [
       "<Figure size 640x480 with 1 Axes>"
      ]
     },
     "metadata": {},
     "output_type": "display_data"
    }
   ],
   "source": [
    "sdo_df[\"wavelength\"].value_counts().plot(kind=\"bar\", title=\"Wavelength Distribution\")"
   ]
  },
  {
   "cell_type": "code",
   "execution_count": 8,
   "id": "4808b7b4",
   "metadata": {},
   "outputs": [
    {
     "data": {
      "text/plain": [
       "<Axes: title={'center': 'Total Size by Instrument'}, xlabel='instrument'>"
      ]
     },
     "execution_count": 8,
     "metadata": {},
     "output_type": "execute_result"
    },
    {
     "data": {
      "image/png": "[encoded data removed]",
      "text/plain": [
       "<Figure size 640x480 with 1 Axes>"
      ]
     },
     "metadata": {},
     "output_type": "display_data"
    }
   ],
   "source": [
    "sdo_df.groupby(\"instrument\")[\"size_bytes\"].sum().plot(\n",
    "    kind=\"bar\", title=\"Total Size by Instrument\"\n",
    ")"
   ]
  },
  {
   "cell_type": "code",
   "execution_count": 9,
   "id": "e53ecdc9",
   "metadata": {},
   "outputs": [
    {
     "name": "stdout",
     "output_type": "stream",
     "text": [
      "Total size of AIA data for January: 61.35 GB\n"
     ]
    }
   ],
   "source": [
    "# Filter for AIA data from January\n",
    "aia_january_data = sdo_df[(sdo_df[\"instrument\"] == \"AIA\") & (sdo_df[\"month\"] == \"01\")]\n",
    "\n",
    "# Calculate total size in GB\n",
    "aia_january_size_gb = aia_january_data[\"size_bytes\"].sum() / (1024**3)\n",
    "\n",
    "# Display the result\n",
    "print(f\"Total size of AIA data for January: {aia_january_size_gb:.2f} GB\")"
   ]
  },
  {
   "cell_type": "code",
   "execution_count": 10,
   "id": "9a6e6d4f",
   "metadata": {},
   "outputs": [
    {
     "data": {
      "text/html": [
       "<div>\n",
       "<style scoped>\n",
       "    .dataframe tbody tr th:only-of-type {\n",
       "        vertical-align: middle;\n",
       "    }\n",
       "\n",
       "    .dataframe tbody tr th {\n",
       "        vertical-align: top;\n",
       "    }\n",
       "\n",
       "    .dataframe thead th {\n",
       "        text-align: right;\n",
       "    }\n",
       "</style>\n",
       "<table border=\"1\" class=\"dataframe\">\n",
       "  <thead>\n",
       "    <tr style=\"text-align: right;\">\n",
       "      <th></th>\n",
       "      <th>file_number</th>\n",
       "      <th>file_name</th>\n",
       "      <th>size</th>\n",
       "      <th>size_bytes</th>\n",
       "      <th>instrument</th>\n",
       "      <th>wavelength</th>\n",
       "      <th>date</th>\n",
       "      <th>year</th>\n",
       "      <th>month</th>\n",
       "      <th>year_month</th>\n",
       "    </tr>\n",
       "  </thead>\n",
       "  <tbody>\n",
       "    <tr>\n",
       "      <th>0</th>\n",
       "      <td>1</td>\n",
       "      <td>AIA_0094_201201.tar</td>\n",
       "      <td>6.78 GB</td>\n",
       "      <td>7.279970e+09</td>\n",
       "      <td>AIA</td>\n",
       "      <td>0094</td>\n",
       "      <td>201201</td>\n",
       "      <td>2012</td>\n",
       "      <td>01</td>\n",
       "      <td>2012-01</td>\n",
       "    </tr>\n",
       "    <tr>\n",
       "      <th>12</th>\n",
       "      <td>13</td>\n",
       "      <td>AIA_0131_201201.tar</td>\n",
       "      <td>6.83 GB</td>\n",
       "      <td>7.333657e+09</td>\n",
       "      <td>AIA</td>\n",
       "      <td>0131</td>\n",
       "      <td>201201</td>\n",
       "      <td>2012</td>\n",
       "      <td>01</td>\n",
       "      <td>2012-01</td>\n",
       "    </tr>\n",
       "    <tr>\n",
       "      <th>24</th>\n",
       "      <td>25</td>\n",
       "      <td>AIA_0171_201201.tar</td>\n",
       "      <td>6.88 GB</td>\n",
       "      <td>7.387344e+09</td>\n",
       "      <td>AIA</td>\n",
       "      <td>0171</td>\n",
       "      <td>201201</td>\n",
       "      <td>2012</td>\n",
       "      <td>01</td>\n",
       "      <td>2012-01</td>\n",
       "    </tr>\n",
       "    <tr>\n",
       "      <th>36</th>\n",
       "      <td>37</td>\n",
       "      <td>AIA_0193_201201.tar</td>\n",
       "      <td>6.86 GB</td>\n",
       "      <td>7.365869e+09</td>\n",
       "      <td>AIA</td>\n",
       "      <td>0193</td>\n",
       "      <td>201201</td>\n",
       "      <td>2012</td>\n",
       "      <td>01</td>\n",
       "      <td>2012-01</td>\n",
       "    </tr>\n",
       "    <tr>\n",
       "      <th>48</th>\n",
       "      <td>49</td>\n",
       "      <td>AIA_0211_201201.tar</td>\n",
       "      <td>6.85 GB</td>\n",
       "      <td>7.355131e+09</td>\n",
       "      <td>AIA</td>\n",
       "      <td>0211</td>\n",
       "      <td>201201</td>\n",
       "      <td>2012</td>\n",
       "      <td>01</td>\n",
       "      <td>2012-01</td>\n",
       "    </tr>\n",
       "    <tr>\n",
       "      <th>60</th>\n",
       "      <td>61</td>\n",
       "      <td>AIA_0304_201201.tar</td>\n",
       "      <td>6.84 GB</td>\n",
       "      <td>7.344394e+09</td>\n",
       "      <td>AIA</td>\n",
       "      <td>0304</td>\n",
       "      <td>201201</td>\n",
       "      <td>2012</td>\n",
       "      <td>01</td>\n",
       "      <td>2012-01</td>\n",
       "    </tr>\n",
       "    <tr>\n",
       "      <th>72</th>\n",
       "      <td>73</td>\n",
       "      <td>AIA_0335_201201.tar</td>\n",
       "      <td>6.81 GB</td>\n",
       "      <td>7.312182e+09</td>\n",
       "      <td>AIA</td>\n",
       "      <td>0335</td>\n",
       "      <td>201201</td>\n",
       "      <td>2012</td>\n",
       "      <td>01</td>\n",
       "      <td>2012-01</td>\n",
       "    </tr>\n",
       "    <tr>\n",
       "      <th>84</th>\n",
       "      <td>85</td>\n",
       "      <td>AIA_1600_201201.tar</td>\n",
       "      <td>6.76 GB</td>\n",
       "      <td>7.258495e+09</td>\n",
       "      <td>AIA</td>\n",
       "      <td>1600</td>\n",
       "      <td>201201</td>\n",
       "      <td>2012</td>\n",
       "      <td>01</td>\n",
       "      <td>2012-01</td>\n",
       "    </tr>\n",
       "    <tr>\n",
       "      <th>96</th>\n",
       "      <td>97</td>\n",
       "      <td>AIA_1700_201201.tar</td>\n",
       "      <td>6.11 GB</td>\n",
       "      <td>6.560563e+09</td>\n",
       "      <td>AIA</td>\n",
       "      <td>1700</td>\n",
       "      <td>201201</td>\n",
       "      <td>2012</td>\n",
       "      <td>01</td>\n",
       "      <td>2012-01</td>\n",
       "    </tr>\n",
       "    <tr>\n",
       "      <th>108</th>\n",
       "      <td>109</td>\n",
       "      <td>AIA_4500_201201.tar</td>\n",
       "      <td>644.01 MB</td>\n",
       "      <td>6.752934e+08</td>\n",
       "      <td>AIA</td>\n",
       "      <td>4500</td>\n",
       "      <td>201201</td>\n",
       "      <td>2012</td>\n",
       "      <td>01</td>\n",
       "      <td>2012-01</td>\n",
       "    </tr>\n",
       "  </tbody>\n",
       "</table>\n",
       "</div>"
      ],
      "text/plain": [
       "     file_number            file_name       size    size_bytes instrument  \\\n",
       "0              1  AIA_0094_201201.tar    6.78 GB  7.279970e+09        AIA   \n",
       "12            13  AIA_0131_201201.tar    6.83 GB  7.333657e+09        AIA   \n",
       "24            25  AIA_0171_201201.tar    6.88 GB  7.387344e+09        AIA   \n",
       "36            37  AIA_0193_201201.tar    6.86 GB  7.365869e+09        AIA   \n",
       "48            49  AIA_0211_201201.tar    6.85 GB  7.355131e+09        AIA   \n",
       "60            61  AIA_0304_201201.tar    6.84 GB  7.344394e+09        AIA   \n",
       "72            73  AIA_0335_201201.tar    6.81 GB  7.312182e+09        AIA   \n",
       "84            85  AIA_1600_201201.tar    6.76 GB  7.258495e+09        AIA   \n",
       "96            97  AIA_1700_201201.tar    6.11 GB  6.560563e+09        AIA   \n",
       "108          109  AIA_4500_201201.tar  644.01 MB  6.752934e+08        AIA   \n",
       "\n",
       "    wavelength    date  year month year_month  \n",
       "0         0094  201201  2012    01    2012-01  \n",
       "12        0131  201201  2012    01    2012-01  \n",
       "24        0171  201201  2012    01    2012-01  \n",
       "36        0193  201201  2012    01    2012-01  \n",
       "48        0211  201201  2012    01    2012-01  \n",
       "60        0304  201201  2012    01    2012-01  \n",
       "72        0335  201201  2012    01    2012-01  \n",
       "84        1600  201201  2012    01    2012-01  \n",
       "96        1700  201201  2012    01    2012-01  \n",
       "108       4500  201201  2012    01    2012-01  "
      ]
     },
     "execution_count": 10,
     "metadata": {},
     "output_type": "execute_result"
    }
   ],
   "source": [
    "aia_january_data"
   ]
  },
  {
   "cell_type": "markdown",
   "id": "bd8121e1",
   "metadata": {},
   "source": [
    "## Create Sym Links for all Cean Data"
   ]
  },
  {
   "cell_type": "code",
   "execution_count": 11,
   "id": "a982be74",
   "metadata": {},
   "outputs": [
    {
     "name": "stdout",
     "output_type": "stream",
     "text": [
      "/Users/andrewrobbertz/__SOC_CODE__/_data_/SDO/downloads\n",
      "/Users/andrewrobbertz/__SOC_CODE__/_data_/SDO/experiments\n"
     ]
    }
   ],
   "source": [
    "print(download_dir)\n",
    "print(experiments_dir)"
   ]
  },
  {
   "cell_type": "code",
   "execution_count": 12,
   "id": "8d3385df",
   "metadata": {},
   "outputs": [
    {
     "data": {
      "text/plain": [
       "[PosixPath('/Users/andrewrobbertz/__SOC_CODE__/_data_/SDO/downloads/AIA'),\n",
       " PosixPath('/Users/andrewrobbertz/__SOC_CODE__/_data_/SDO/downloads/EVE')]"
      ]
     },
     "execution_count": 12,
     "metadata": {},
     "output_type": "execute_result"
    }
   ],
   "source": [
    "folders = [item for item in download_dir.iterdir() if item.is_dir()]\n",
    "folders"
   ]
  },
  {
   "cell_type": "code",
   "execution_count": 13,
   "id": "2cbc8018",
   "metadata": {},
   "outputs": [
    {
     "data": {
      "text/plain": [
       "['AIA', 'EVE']"
      ]
     },
     "execution_count": 13,
     "metadata": {},
     "output_type": "execute_result"
    }
   ],
   "source": [
    "[folder.name for folder in folders]"
   ]
  },
  {
   "cell_type": "code",
   "execution_count": 14,
   "id": "fc69a88a",
   "metadata": {},
   "outputs": [
    {
     "name": "stdout",
     "output_type": "stream",
     "text": [
      "Directory /Users/andrewrobbertz/__SOC_CODE__/_data_/SDO/experiments/AIA already exists, skipping symlink creation.\n",
      "Directory /Users/andrewrobbertz/__SOC_CODE__/_data_/SDO/experiments/EVE already exists, skipping symlink creation.\n"
     ]
    }
   ],
   "source": [
    "for folder in folders:\n",
    "    if not os.path.exists(experiments_dir / folder.name):\n",
    "        os.system(f\"ln -s  {folder} {experiments_dir / folder.name}\")\n",
    "    else:\n",
    "        print(\n",
    "            f\"Directory {experiments_dir / folder.name} already exists, skipping symlink creation.\"\n",
    "        )"
   ]
  },
  {
   "cell_type": "markdown",
   "id": "1dcaac8e",
   "metadata": {},
   "source": [
    "## Make Join\n",
    "\n",
    "```sh\n",
    "python make_join.py --eve_root /Users/andrewrobbertz/__SOC_CODE__/_data_/SDO/experiments/EVE --aia_root /Users/andrewrobbertz/__SOC_CODE__/_data_/SDO/experiments/AIA --target experimental_data_folder/\n",
    "```"
   ]
  },
  {
   "cell_type": "code",
   "execution_count": 15,
   "id": "4025884a",
   "metadata": {},
   "outputs": [],
   "source": [
    "eve_root = experiments_dir / \"EVE\"\n",
    "aia_root = experiments_dir / \"AIA\"\n",
    "target_dir = experiments_dir"
   ]
  },
  {
   "cell_type": "code",
   "execution_count": 16,
   "id": "26bb8cb6",
   "metadata": {},
   "outputs": [],
   "source": [
    "# Edit to get the necessary cadence. (Default 10-Second Cadence)\n",
    "# minutes = range(0,60,10)\n",
    "\n",
    "# We're going to use a 6-minute cadence since that's the availability of the limited AIA data.\n",
    "minutes = range(0, 60, 6)"
   ]
  },
  {
   "cell_type": "code",
   "execution_count": 17,
   "id": "b65eca9e",
   "metadata": {},
   "outputs": [
    {
     "name": "stdout",
     "output_type": "stream",
     "text": [
      "Dates Shape: (2137380,)\n",
      "Type: <class 'str'>\n",
      "Min Date: 2010-05-01T00:00:10Z, Max Date: 2014-05-26T23:59:09Z\n",
      "Original Cadence: 60.109479 seconds\n"
     ]
    }
   ],
   "source": [
    "# Load Dates of EVE Data\n",
    "dates = np.load(eve_root / \"iso.npy\", allow_pickle=True)\n",
    "\n",
    "# Min/Max Dates\n",
    "min_date = dates.min()\n",
    "max_date = dates.max()\n",
    "print(f\"Dates Shape: {dates.shape}\")\n",
    "print(f\"Type: {type(dates[0])}\")\n",
    "print(f\"Min Date: {min_date}, Max Date: {max_date}\")\n",
    "# Original Cadence Between Dates remember to convert to datetime since the dates are in ISO format strings\n",
    "min_date = datetime.datetime.fromisoformat(min_date)\n",
    "max_date = datetime.datetime.fromisoformat(max_date)\n",
    "# Calculate the original cadence in seconds\n",
    "original_cadence = (max_date - min_date) / (len(dates) - 1)\n",
    "print(f\"Original Cadence: {original_cadence.total_seconds()} seconds\")"
   ]
  },
  {
   "cell_type": "code",
   "execution_count": 18,
   "id": "35c15905",
   "metadata": {},
   "outputs": [
    {
     "data": {
      "text/plain": [
       "(2137380, 39)"
      ]
     },
     "execution_count": 18,
     "metadata": {},
     "output_type": "execute_result"
    }
   ],
   "source": [
    "# Load Lables from EVE Data\n",
    "Y = np.load(eve_root / \"irradiance.npy\", allow_pickle=True)\n",
    "Y.shape"
   ]
  },
  {
   "cell_type": "code",
   "execution_count": 19,
   "id": "8d6fcd54",
   "metadata": {},
   "outputs": [
    {
     "data": {
      "text/plain": [
       "(2137380,)"
      ]
     },
     "execution_count": 19,
     "metadata": {},
     "output_type": "execute_result"
    }
   ],
   "source": [
    "reind = -np.ones((Y.shape[0],), dtype=np.uint64)\n",
    "reind.shape"
   ]
  },
  {
   "cell_type": "code",
   "execution_count": 20,
   "id": "690fcf82",
   "metadata": {},
   "outputs": [
    {
     "name": "stderr",
     "output_type": "stream",
     "text": [
      "Processing dates: 100%|██████████| 2137380/2137380 [00:49<00:00, 43450.85date/s]\n"
     ]
    }
   ],
   "source": [
    "# date time to eve index; we'll then reindex\n",
    "eveDateToInd: dict[datetime.datetime, int] = {}\n",
    "# round off error; use this to figure out whether to accept or reject\n",
    "# eve measurements that fall into the same bin\n",
    "eveDateToIndResolution: dict[datetime.datetime, datetime.timedelta] = {}\n",
    "\n",
    "for i in tqdm(range(len(dates)), desc=\"Processing dates\", unit=\"date\"):\n",
    "    # Parse the date string and convert to datetime\n",
    "    d = dates[i][:-1].replace(\"T\", \" \")\n",
    "    dtOrig = datetime.datetime.strptime(d, \"%Y-%m-%d %H:%M:%S\")\n",
    "\n",
    "    # Round the timestamp to the nearest minute\n",
    "    ts = pd.Timestamp(d).round(\"min\")\n",
    "    dt = datetime.datetime.strptime(str(ts), \"%Y-%m-%d %H:%M:%S\")\n",
    "\n",
    "    # get the round-off error\n",
    "    roundError = max(dt - dtOrig, dtOrig - dt)\n",
    "\n",
    "    # don't bother if it's not the right minute\n",
    "    if dt.minute not in minutes:\n",
    "        continue\n",
    "\n",
    "    if dt not in eveDateToInd or roundError < eveDateToIndResolution[dt]:\n",
    "        eveDateToInd[dt] = i\n",
    "        eveDateToIndResolution[dt] = roundError"
   ]
  },
  {
   "cell_type": "code",
   "execution_count": 21,
   "id": "c46b0959",
   "metadata": {},
   "outputs": [
    {
     "name": "stdout",
     "output_type": "stream",
     "text": [
      "Number of EVE Dates: 356074\n",
      "Min Date: 2010-05-01 00:00:00, Max Date: 2014-05-26 23:54:00\n",
      "Cadence: 0:06:00.814889\n"
     ]
    }
   ],
   "source": [
    "# EVE Dates to use:\n",
    "print(f\"Number of EVE Dates: {len(eveDateToInd)}\")\n",
    "# Min and Max Dates\n",
    "min_date = min(eveDateToInd.keys())\n",
    "max_date = max(eveDateToInd.keys())\n",
    "print(f\"Min Date: {min_date}, Max Date: {max_date}\")\n",
    "# Cadence between Dates\n",
    "cadence = (max_date - min_date) / (len(eveDateToInd) - 1)\n",
    "print(f\"Cadence: {cadence}\")"
   ]
  },
  {
   "cell_type": "code",
   "execution_count": 22,
   "id": "e5d09405",
   "metadata": {},
   "outputs": [],
   "source": [
    "# these are the possible eve measurements we want to keep (1...K)\n",
    "inds = list(eveDateToInd.values())\n",
    "inds.sort()"
   ]
  },
  {
   "cell_type": "code",
   "execution_count": 23,
   "id": "417adb62",
   "metadata": {},
   "outputs": [
    {
     "name": "stdout",
     "output_type": "stream",
     "text": [
      "Reind Dates Shape: (356074,), YReind Shape: (356074, 39)\n"
     ]
    }
   ],
   "source": [
    "# these are Kx1 and Kx#EVE respectively\n",
    "dateReind = dates[inds]\n",
    "YReind = Y[inds]\n",
    "print(f\"Reind Dates Shape: {dateReind.shape}, YReind Shape: {YReind.shape}\")\n",
    "\n",
    "# 39 EVE Channels"
   ]
  },
  {
   "cell_type": "code",
   "execution_count": 24,
   "id": "2d895f07",
   "metadata": {},
   "outputs": [
    {
     "data": {
      "text/plain": [
       "array(['2010-05-01T00:00:10Z', '2010-05-01T00:06:10Z',\n",
       "       '2010-05-01T00:12:10Z', '2010-05-01T00:18:10Z',\n",
       "       '2010-05-01T00:24:10Z'], dtype=object)"
      ]
     },
     "execution_count": 24,
     "metadata": {},
     "output_type": "execute_result"
    }
   ],
   "source": [
    "dateReind[:5]"
   ]
  },
  {
   "cell_type": "code",
   "execution_count": 25,
   "id": "4ac021c6",
   "metadata": {},
   "outputs": [
    {
     "data": {
      "text/plain": [
       "array([ 4.30300815e-06,  2.39873839e-06,  7.80395112e-07,  5.85553062e-05,\n",
       "        3.73413604e-05,  4.98629925e-05,  3.46519009e-05,  2.73904025e-05,\n",
       "        1.47363635e-05,  2.98026935e-05,  2.39679084e-05,  4.82662435e-04,\n",
       "        1.27177764e-05, -1.00000000e+00,  4.03030026e-05,  5.68839766e-07,\n",
       "        1.52088869e-05,  1.08161794e-05,  4.13040789e-06,  2.44806688e-06,\n",
       "        4.95156610e-06,  2.36344295e-05,  8.54570601e-07,  4.59554249e-05,\n",
       "        7.36728168e-07,  4.66363917e-06,  8.36469007e-06,  8.78618266e-06,\n",
       "        4.93448897e-05,  1.97189888e-06,  8.02334569e-07,  1.18868011e-05,\n",
       "        1.52101029e-05,  3.10851647e-05,  1.09213752e-05,  1.77161128e-05,\n",
       "        1.34342190e-04,  7.97069442e-05,  5.64602924e-05], dtype='>f4')"
      ]
     },
     "execution_count": 25,
     "metadata": {},
     "output_type": "execute_result"
    }
   ],
   "source": [
    "YReind[1]"
   ]
  },
  {
   "cell_type": "code",
   "execution_count": 26,
   "id": "ef23dbd5",
   "metadata": {},
   "outputs": [],
   "source": [
    "# this just maps any old eve index to the new ones\n",
    "reind[inds] = range(len(inds))"
   ]
  },
  {
   "cell_type": "code",
   "execution_count": 27,
   "id": "c0c4307b",
   "metadata": {},
   "outputs": [],
   "source": [
    "# save them\n",
    "np.save(target_dir / \"iso_10m.npy\", dateReind)\n",
    "np.save(target_dir / \"irradiance_10m.npy\", YReind)"
   ]
  },
  {
   "cell_type": "code",
   "execution_count": 28,
   "id": "a18737a1",
   "metadata": {},
   "outputs": [],
   "source": [
    "def fitsfn(year, month, day, hour, minute, wavelength):\n",
    "    fn = \"AIA%04d%02d%02d_\" % (year, month, day)\n",
    "    fn += \"%02d%02d_\" % (hour, minute)\n",
    "    fn += \"%04d.npz\" % (wavelength)\n",
    "    return fn\n",
    "\n",
    "\n",
    "def localFn(year, month, day, hour, minute, wavelength):\n",
    "    prefix = \"%d/%04d/%02d/%02d/\" % (wavelength, year, month, day)\n",
    "    fn = fitsfn(year, month, day, hour, minute, wavelength)\n",
    "    return \"%s%s\" % (prefix, fn)"
   ]
  },
  {
   "cell_type": "code",
   "execution_count": 29,
   "id": "9942af0e",
   "metadata": {},
   "outputs": [
    {
     "name": "stdout",
     "output_type": "stream",
     "text": [
      "2011 1 1\n",
      "2011 2 1\n",
      "2011 3 1\n",
      "2011 4 1\n",
      "2011 5 1\n",
      "2011 6 1\n",
      "2011 7 1\n",
      "2011 8 1\n",
      "2011 9 1\n",
      "2011 10 1\n",
      "2011 11 1\n",
      "2011 12 1\n",
      "Year 2011 AIA Missing: 87600 EVE Missing: 0 Present: 0\n",
      "2012 1 1\n",
      "2012 2 1\n",
      "2012 3 1\n",
      "2012 4 1\n",
      "2012 5 1\n",
      "2012 6 1\n",
      "2012 7 1\n",
      "2012 8 1\n",
      "2012 9 1\n",
      "2012 10 1\n",
      "2012 11 1\n",
      "2012 12 1\n",
      "Year 2012 AIA Missing: 81297 EVE Missing: 0 Present: 6543\n",
      "2013 1 1\n",
      "2013 2 1\n",
      "2013 3 1\n",
      "2013 4 1\n",
      "2013 5 1\n",
      "2013 6 1\n",
      "2013 7 1\n",
      "2013 8 1\n",
      "2013 9 1\n",
      "2013 10 1\n",
      "2013 11 1\n",
      "2013 12 1\n",
      "Year 2013 AIA Missing: 87600 EVE Missing: 0 Present: 0\n",
      "2014 1 1\n",
      "2014 2 1\n",
      "2014 3 1\n",
      "2014 4 1\n",
      "2014 5 1\n",
      "2014 6 1\n",
      "2014 7 1\n",
      "2014 8 1\n",
      "2014 9 1\n",
      "2014 10 1\n",
      "2014 11 1\n",
      "2014 12 1\n",
      "Year 2014 AIA Missing: 87600 EVE Missing: 0 Present: 0\n"
     ]
    }
   ],
   "source": [
    "# make a csv for every year\n",
    "for y in range(\n",
    "    2011, 2015\n",
    "):  # NOTE We only have AIA Data for 2012 01 (January 2012 only)\n",
    "    startDate = datetime.date(y, 1, 1)\n",
    "    endDate = datetime.date(y + 1, 1, 1)\n",
    "    dayDelta = datetime.timedelta(days=1)\n",
    "\n",
    "    hours = range(24)\n",
    "\n",
    "    # get the dates\n",
    "    wavelengths = [131, 1600, 1700, 171, 193, 211, 304, 335, 94]\n",
    "    current = startDate\n",
    "\n",
    "    # Create the CSV Header\n",
    "    fh = open(target_dir / f\"{y:04d}.csv\", \"w\")\n",
    "    fh.write(\"AIA_TIME,EVE_TIME,\")\n",
    "    for wl in wavelengths:\n",
    "        fh.write(f\"AIA_{wl},\")\n",
    "    fh.write(\"EVE_ind\\n\")\n",
    "    # CSV Columns will be:\n",
    "    # AIA_TIME,EVE_TIME,AIA_131,AIA_1600,AIA_1700,AIA_171,AIA_193,AIA_211,AIA_304,AIA_335,AIA_94,EVE_ind\n",
    "\n",
    "    aiaMissing, eveMissing, present = 0, 0, 0\n",
    "    # Loop through each day of the year\n",
    "    while current < endDate:\n",
    "        year, month, day = current.year, current.month, current.day\n",
    "        if day == 1:\n",
    "            print(year, month, day)\n",
    "\n",
    "        for hour in hours:\n",
    "            for minute in minutes:\n",
    "\n",
    "                # Flag if all AIA Wavelengths are available for the given time\n",
    "                all_wl_present = True\n",
    "                fns = []\n",
    "                for wl in wavelengths:\n",
    "\n",
    "                    # Get the filename for the AIA data at this time and wavelength\n",
    "                    localFilename = localFn(year, month, day, hour, minute, wl)\n",
    "\n",
    "                    # Full Path to the AIA file\n",
    "                    fullFilename = aia_root / localFilename\n",
    "\n",
    "                    fns.append(localFilename)\n",
    "                    if not os.path.exists(fullFilename):\n",
    "                        all_wl_present = False\n",
    "                        break\n",
    "\n",
    "                if not all_wl_present:\n",
    "                    aiaMissing += 1\n",
    "                    continue\n",
    "\n",
    "                # look up the time\n",
    "                dt = datetime.datetime(year, month, day, hour, minute, 0)\n",
    "\n",
    "                if dt not in eveDateToInd:\n",
    "                    eveMissing += 1\n",
    "                    continue\n",
    "\n",
    "                # write the csv out\n",
    "                newEveIndex = reind[eveDateToInd[dt]]\n",
    "                eveDate = dates[eveDateToInd[dt]]\n",
    "\n",
    "                fh.write(\"%s,%s,\" % (str(dt), str(eveDate)))\n",
    "                for fn in fns:\n",
    "                    fh.write(\"%s,\" % fn)\n",
    "                fh.write(\"%d\\n\" % newEveIndex)\n",
    "                present += 1\n",
    "\n",
    "        current += dayDelta\n",
    "\n",
    "    fh.close()\n",
    "\n",
    "    print(\n",
    "        f\"Year {y} AIA Missing: {aiaMissing} EVE Missing: {eveMissing} Present: {present}\"\n",
    "    )"
   ]
  },
  {
   "cell_type": "code",
   "execution_count": 30,
   "id": "8298def0",
   "metadata": {},
   "outputs": [
    {
     "data": {
      "text/html": [
       "<div>\n",
       "<style scoped>\n",
       "    .dataframe tbody tr th:only-of-type {\n",
       "        vertical-align: middle;\n",
       "    }\n",
       "\n",
       "    .dataframe tbody tr th {\n",
       "        vertical-align: top;\n",
       "    }\n",
       "\n",
       "    .dataframe thead th {\n",
       "        text-align: right;\n",
       "    }\n",
       "</style>\n",
       "<table border=\"1\" class=\"dataframe\">\n",
       "  <thead>\n",
       "    <tr style=\"text-align: right;\">\n",
       "      <th></th>\n",
       "      <th>AIA_TIME</th>\n",
       "      <th>EVE_TIME</th>\n",
       "      <th>AIA_131</th>\n",
       "      <th>AIA_1600</th>\n",
       "      <th>AIA_1700</th>\n",
       "      <th>AIA_171</th>\n",
       "      <th>AIA_193</th>\n",
       "      <th>AIA_211</th>\n",
       "      <th>AIA_304</th>\n",
       "      <th>AIA_335</th>\n",
       "      <th>AIA_94</th>\n",
       "      <th>EVE_ind</th>\n",
       "    </tr>\n",
       "  </thead>\n",
       "  <tbody>\n",
       "    <tr>\n",
       "      <th>0</th>\n",
       "      <td>2012-01-01 00:06:00</td>\n",
       "      <td>2012-01-01T00:06:05Z</td>\n",
       "      <td>131/2012/01/01/AIA20120101_0006_0131.npz</td>\n",
       "      <td>1600/2012/01/01/AIA20120101_0006_1600.npz</td>\n",
       "      <td>1700/2012/01/01/AIA20120101_0006_1700.npz</td>\n",
       "      <td>171/2012/01/01/AIA20120101_0006_0171.npz</td>\n",
       "      <td>193/2012/01/01/AIA20120101_0006_0193.npz</td>\n",
       "      <td>211/2012/01/01/AIA20120101_0006_0211.npz</td>\n",
       "      <td>304/2012/01/01/AIA20120101_0006_0304.npz</td>\n",
       "      <td>335/2012/01/01/AIA20120101_0006_0335.npz</td>\n",
       "      <td>94/2012/01/01/AIA20120101_0006_0094.npz</td>\n",
       "      <td>146302</td>\n",
       "    </tr>\n",
       "    <tr>\n",
       "      <th>1</th>\n",
       "      <td>2012-01-01 00:12:00</td>\n",
       "      <td>2012-01-01T00:12:05Z</td>\n",
       "      <td>131/2012/01/01/AIA20120101_0012_0131.npz</td>\n",
       "      <td>1600/2012/01/01/AIA20120101_0012_1600.npz</td>\n",
       "      <td>1700/2012/01/01/AIA20120101_0012_1700.npz</td>\n",
       "      <td>171/2012/01/01/AIA20120101_0012_0171.npz</td>\n",
       "      <td>193/2012/01/01/AIA20120101_0012_0193.npz</td>\n",
       "      <td>211/2012/01/01/AIA20120101_0012_0211.npz</td>\n",
       "      <td>304/2012/01/01/AIA20120101_0012_0304.npz</td>\n",
       "      <td>335/2012/01/01/AIA20120101_0012_0335.npz</td>\n",
       "      <td>94/2012/01/01/AIA20120101_0012_0094.npz</td>\n",
       "      <td>146303</td>\n",
       "    </tr>\n",
       "    <tr>\n",
       "      <th>2</th>\n",
       "      <td>2012-01-01 00:18:00</td>\n",
       "      <td>2012-01-01T00:18:05Z</td>\n",
       "      <td>131/2012/01/01/AIA20120101_0018_0131.npz</td>\n",
       "      <td>1600/2012/01/01/AIA20120101_0018_1600.npz</td>\n",
       "      <td>1700/2012/01/01/AIA20120101_0018_1700.npz</td>\n",
       "      <td>171/2012/01/01/AIA20120101_0018_0171.npz</td>\n",
       "      <td>193/2012/01/01/AIA20120101_0018_0193.npz</td>\n",
       "      <td>211/2012/01/01/AIA20120101_0018_0211.npz</td>\n",
       "      <td>304/2012/01/01/AIA20120101_0018_0304.npz</td>\n",
       "      <td>335/2012/01/01/AIA20120101_0018_0335.npz</td>\n",
       "      <td>94/2012/01/01/AIA20120101_0018_0094.npz</td>\n",
       "      <td>146304</td>\n",
       "    </tr>\n",
       "    <tr>\n",
       "      <th>3</th>\n",
       "      <td>2012-01-01 00:24:00</td>\n",
       "      <td>2012-01-01T00:24:05Z</td>\n",
       "      <td>131/2012/01/01/AIA20120101_0024_0131.npz</td>\n",
       "      <td>1600/2012/01/01/AIA20120101_0024_1600.npz</td>\n",
       "      <td>1700/2012/01/01/AIA20120101_0024_1700.npz</td>\n",
       "      <td>171/2012/01/01/AIA20120101_0024_0171.npz</td>\n",
       "      <td>193/2012/01/01/AIA20120101_0024_0193.npz</td>\n",
       "      <td>211/2012/01/01/AIA20120101_0024_0211.npz</td>\n",
       "      <td>304/2012/01/01/AIA20120101_0024_0304.npz</td>\n",
       "      <td>335/2012/01/01/AIA20120101_0024_0335.npz</td>\n",
       "      <td>94/2012/01/01/AIA20120101_0024_0094.npz</td>\n",
       "      <td>146305</td>\n",
       "    </tr>\n",
       "    <tr>\n",
       "      <th>4</th>\n",
       "      <td>2012-01-01 00:30:00</td>\n",
       "      <td>2012-01-01T00:30:05Z</td>\n",
       "      <td>131/2012/01/01/AIA20120101_0030_0131.npz</td>\n",
       "      <td>1600/2012/01/01/AIA20120101_0030_1600.npz</td>\n",
       "      <td>1700/2012/01/01/AIA20120101_0030_1700.npz</td>\n",
       "      <td>171/2012/01/01/AIA20120101_0030_0171.npz</td>\n",
       "      <td>193/2012/01/01/AIA20120101_0030_0193.npz</td>\n",
       "      <td>211/2012/01/01/AIA20120101_0030_0211.npz</td>\n",
       "      <td>304/2012/01/01/AIA20120101_0030_0304.npz</td>\n",
       "      <td>335/2012/01/01/AIA20120101_0030_0335.npz</td>\n",
       "      <td>94/2012/01/01/AIA20120101_0030_0094.npz</td>\n",
       "      <td>146306</td>\n",
       "    </tr>\n",
       "  </tbody>\n",
       "</table>\n",
       "</div>"
      ],
      "text/plain": [
       "              AIA_TIME              EVE_TIME  \\\n",
       "0  2012-01-01 00:06:00  2012-01-01T00:06:05Z   \n",
       "1  2012-01-01 00:12:00  2012-01-01T00:12:05Z   \n",
       "2  2012-01-01 00:18:00  2012-01-01T00:18:05Z   \n",
       "3  2012-01-01 00:24:00  2012-01-01T00:24:05Z   \n",
       "4  2012-01-01 00:30:00  2012-01-01T00:30:05Z   \n",
       "\n",
       "                                    AIA_131  \\\n",
       "0  131/2012/01/01/AIA20120101_0006_0131.npz   \n",
       "1  131/2012/01/01/AIA20120101_0012_0131.npz   \n",
       "2  131/2012/01/01/AIA20120101_0018_0131.npz   \n",
       "3  131/2012/01/01/AIA20120101_0024_0131.npz   \n",
       "4  131/2012/01/01/AIA20120101_0030_0131.npz   \n",
       "\n",
       "                                    AIA_1600  \\\n",
       "0  1600/2012/01/01/AIA20120101_0006_1600.npz   \n",
       "1  1600/2012/01/01/AIA20120101_0012_1600.npz   \n",
       "2  1600/2012/01/01/AIA20120101_0018_1600.npz   \n",
       "3  1600/2012/01/01/AIA20120101_0024_1600.npz   \n",
       "4  1600/2012/01/01/AIA20120101_0030_1600.npz   \n",
       "\n",
       "                                    AIA_1700  \\\n",
       "0  1700/2012/01/01/AIA20120101_0006_1700.npz   \n",
       "1  1700/2012/01/01/AIA20120101_0012_1700.npz   \n",
       "2  1700/2012/01/01/AIA20120101_0018_1700.npz   \n",
       "3  1700/2012/01/01/AIA20120101_0024_1700.npz   \n",
       "4  1700/2012/01/01/AIA20120101_0030_1700.npz   \n",
       "\n",
       "                                    AIA_171  \\\n",
       "0  171/2012/01/01/AIA20120101_0006_0171.npz   \n",
       "1  171/2012/01/01/AIA20120101_0012_0171.npz   \n",
       "2  171/2012/01/01/AIA20120101_0018_0171.npz   \n",
       "3  171/2012/01/01/AIA20120101_0024_0171.npz   \n",
       "4  171/2012/01/01/AIA20120101_0030_0171.npz   \n",
       "\n",
       "                                    AIA_193  \\\n",
       "0  193/2012/01/01/AIA20120101_0006_0193.npz   \n",
       "1  193/2012/01/01/AIA20120101_0012_0193.npz   \n",
       "2  193/2012/01/01/AIA20120101_0018_0193.npz   \n",
       "3  193/2012/01/01/AIA20120101_0024_0193.npz   \n",
       "4  193/2012/01/01/AIA20120101_0030_0193.npz   \n",
       "\n",
       "                                    AIA_211  \\\n",
       "0  211/2012/01/01/AIA20120101_0006_0211.npz   \n",
       "1  211/2012/01/01/AIA20120101_0012_0211.npz   \n",
       "2  211/2012/01/01/AIA20120101_0018_0211.npz   \n",
       "3  211/2012/01/01/AIA20120101_0024_0211.npz   \n",
       "4  211/2012/01/01/AIA20120101_0030_0211.npz   \n",
       "\n",
       "                                    AIA_304  \\\n",
       "0  304/2012/01/01/AIA20120101_0006_0304.npz   \n",
       "1  304/2012/01/01/AIA20120101_0012_0304.npz   \n",
       "2  304/2012/01/01/AIA20120101_0018_0304.npz   \n",
       "3  304/2012/01/01/AIA20120101_0024_0304.npz   \n",
       "4  304/2012/01/01/AIA20120101_0030_0304.npz   \n",
       "\n",
       "                                    AIA_335  \\\n",
       "0  335/2012/01/01/AIA20120101_0006_0335.npz   \n",
       "1  335/2012/01/01/AIA20120101_0012_0335.npz   \n",
       "2  335/2012/01/01/AIA20120101_0018_0335.npz   \n",
       "3  335/2012/01/01/AIA20120101_0024_0335.npz   \n",
       "4  335/2012/01/01/AIA20120101_0030_0335.npz   \n",
       "\n",
       "                                    AIA_94  EVE_ind  \n",
       "0  94/2012/01/01/AIA20120101_0006_0094.npz   146302  \n",
       "1  94/2012/01/01/AIA20120101_0012_0094.npz   146303  \n",
       "2  94/2012/01/01/AIA20120101_0018_0094.npz   146304  \n",
       "3  94/2012/01/01/AIA20120101_0024_0094.npz   146305  \n",
       "4  94/2012/01/01/AIA20120101_0030_0094.npz   146306  "
      ]
     },
     "execution_count": 30,
     "metadata": {},
     "output_type": "execute_result"
    }
   ],
   "source": [
    "# Review the CSV File Created\n",
    "csv_file = target_dir / \"2012.csv\"\n",
    "df = pd.read_csv(csv_file)\n",
    "df.head()"
   ]
  },
  {
   "cell_type": "code",
   "execution_count": 31,
   "id": "38300832",
   "metadata": {},
   "outputs": [
    {
     "name": "stdout",
     "output_type": "stream",
     "text": [
      "Eve Cadence: 0 days 00:06:49.307245490\n",
      "AIA Cadence: 0 days 00:06:49.306022623\n"
     ]
    }
   ],
   "source": [
    "df[\"AIA_TIME\"] = pd.to_datetime(df[\"AIA_TIME\"])\n",
    "df[\"EVE_TIME\"] = pd.to_datetime(df[\"EVE_TIME\"])\n",
    "print(f\"Eve Cadence: {df['EVE_TIME'].diff().mean()}\")\n",
    "print(f\"AIA Cadence: {df['AIA_TIME'].diff().mean()}\")"
   ]
  },
  {
   "cell_type": "markdown",
   "id": "09f01828",
   "metadata": {},
   "source": [
    "## Merge CSVs"
   ]
  },
  {
   "cell_type": "code",
   "execution_count": 32,
   "id": "82c17325",
   "metadata": {},
   "outputs": [],
   "source": [
    "merged_csv = target_dir / \"2011p4.csv\"\n",
    "if merged_csv.exists():\n",
    "    os.remove(merged_csv)"
   ]
  },
  {
   "cell_type": "code",
   "execution_count": 33,
   "id": "47fe6fc6",
   "metadata": {},
   "outputs": [
    {
     "name": "stdout",
     "output_type": "stream",
     "text": [
      "Found 4 source CSV files in /Users/andrewrobbertz/__SOC_CODE__/_data_/SDO/experiments\n"
     ]
    },
    {
     "data": {
      "text/plain": [
       "[PosixPath('/Users/andrewrobbertz/__SOC_CODE__/_data_/SDO/experiments/2014.csv'),\n",
       " PosixPath('/Users/andrewrobbertz/__SOC_CODE__/_data_/SDO/experiments/2013.csv'),\n",
       " PosixPath('/Users/andrewrobbertz/__SOC_CODE__/_data_/SDO/experiments/2012.csv'),\n",
       " PosixPath('/Users/andrewrobbertz/__SOC_CODE__/_data_/SDO/experiments/2011.csv')]"
      ]
     },
     "execution_count": 33,
     "metadata": {},
     "output_type": "execute_result"
    }
   ],
   "source": [
    "source_csvs = list(target_dir.glob(\"*.csv\"))\n",
    "print(f\"Found {len(source_csvs)} source CSV files in {target_dir}\")\n",
    "source_csvs"
   ]
  },
  {
   "cell_type": "code",
   "execution_count": 34,
   "id": "0faf0aa3",
   "metadata": {},
   "outputs": [
    {
     "name": "stdout",
     "output_type": "stream",
     "text": [
      "6544\n",
      "Merged CSV saved to /Users/andrewrobbertz/__SOC_CODE__/_data_/SDO/experiments/2011p4.csv\n"
     ]
    }
   ],
   "source": [
    "lines = []\n",
    "for i, src in enumerate(source_csvs):\n",
    "    data = open(src).read().strip().split(\"\\n\")\n",
    "    lines += data if i == 0 else data[1:]\n",
    "\n",
    "print(len(lines))\n",
    "with open(merged_csv, \"w\") as f:\n",
    "    f.write(\"\\n\".join(lines))\n",
    "print(f\"Merged CSV saved to {merged_csv}\")"
   ]
  },
  {
   "cell_type": "markdown",
   "id": "bc07ac87",
   "metadata": {},
   "source": [
    "`SDO/experiments/2011p4.csv` is the concatenation of each of the yearly CSVs in `SDO/experiments/` directory.\n",
    "\n",
    "Since we only have data for one month in 2012, we can see that the length of the concatenated CSV is the same size as the 2012 CSV. "
   ]
  },
  {
   "cell_type": "markdown",
   "id": "8bfbc1b5",
   "metadata": {},
   "source": [
    "*SKIP `concat_EVE_arrays_totirr.py` Since we do not have the EVE data*\n",
    "\n",
    "## Join Irradiances"
   ]
  },
  {
   "cell_type": "code",
   "execution_count": 35,
   "id": "48027136",
   "metadata": {},
   "outputs": [
    {
     "name": "stdout",
     "output_type": "stream",
     "text": [
      "(6543, 12)\n"
     ]
    },
    {
     "data": {
      "text/html": [
       "<div>\n",
       "<style scoped>\n",
       "    .dataframe tbody tr th:only-of-type {\n",
       "        vertical-align: middle;\n",
       "    }\n",
       "\n",
       "    .dataframe tbody tr th {\n",
       "        vertical-align: top;\n",
       "    }\n",
       "\n",
       "    .dataframe thead th {\n",
       "        text-align: right;\n",
       "    }\n",
       "</style>\n",
       "<table border=\"1\" class=\"dataframe\">\n",
       "  <thead>\n",
       "    <tr style=\"text-align: right;\">\n",
       "      <th></th>\n",
       "      <th>AIA_TIME</th>\n",
       "      <th>EVE_TIME</th>\n",
       "      <th>AIA_131</th>\n",
       "      <th>AIA_1600</th>\n",
       "      <th>AIA_1700</th>\n",
       "      <th>AIA_171</th>\n",
       "      <th>AIA_193</th>\n",
       "      <th>AIA_211</th>\n",
       "      <th>AIA_304</th>\n",
       "      <th>AIA_335</th>\n",
       "      <th>AIA_94</th>\n",
       "      <th>EVE_ind</th>\n",
       "    </tr>\n",
       "  </thead>\n",
       "  <tbody>\n",
       "    <tr>\n",
       "      <th>0</th>\n",
       "      <td>2012-01-01 00:06:00</td>\n",
       "      <td>2012-01-01T00:06:05Z</td>\n",
       "      <td>131/2012/01/01/AIA20120101_0006_0131.npz</td>\n",
       "      <td>1600/2012/01/01/AIA20120101_0006_1600.npz</td>\n",
       "      <td>1700/2012/01/01/AIA20120101_0006_1700.npz</td>\n",
       "      <td>171/2012/01/01/AIA20120101_0006_0171.npz</td>\n",
       "      <td>193/2012/01/01/AIA20120101_0006_0193.npz</td>\n",
       "      <td>211/2012/01/01/AIA20120101_0006_0211.npz</td>\n",
       "      <td>304/2012/01/01/AIA20120101_0006_0304.npz</td>\n",
       "      <td>335/2012/01/01/AIA20120101_0006_0335.npz</td>\n",
       "      <td>94/2012/01/01/AIA20120101_0006_0094.npz</td>\n",
       "      <td>146302</td>\n",
       "    </tr>\n",
       "    <tr>\n",
       "      <th>1</th>\n",
       "      <td>2012-01-01 00:12:00</td>\n",
       "      <td>2012-01-01T00:12:05Z</td>\n",
       "      <td>131/2012/01/01/AIA20120101_0012_0131.npz</td>\n",
       "      <td>1600/2012/01/01/AIA20120101_0012_1600.npz</td>\n",
       "      <td>1700/2012/01/01/AIA20120101_0012_1700.npz</td>\n",
       "      <td>171/2012/01/01/AIA20120101_0012_0171.npz</td>\n",
       "      <td>193/2012/01/01/AIA20120101_0012_0193.npz</td>\n",
       "      <td>211/2012/01/01/AIA20120101_0012_0211.npz</td>\n",
       "      <td>304/2012/01/01/AIA20120101_0012_0304.npz</td>\n",
       "      <td>335/2012/01/01/AIA20120101_0012_0335.npz</td>\n",
       "      <td>94/2012/01/01/AIA20120101_0012_0094.npz</td>\n",
       "      <td>146303</td>\n",
       "    </tr>\n",
       "    <tr>\n",
       "      <th>2</th>\n",
       "      <td>2012-01-01 00:18:00</td>\n",
       "      <td>2012-01-01T00:18:05Z</td>\n",
       "      <td>131/2012/01/01/AIA20120101_0018_0131.npz</td>\n",
       "      <td>1600/2012/01/01/AIA20120101_0018_1600.npz</td>\n",
       "      <td>1700/2012/01/01/AIA20120101_0018_1700.npz</td>\n",
       "      <td>171/2012/01/01/AIA20120101_0018_0171.npz</td>\n",
       "      <td>193/2012/01/01/AIA20120101_0018_0193.npz</td>\n",
       "      <td>211/2012/01/01/AIA20120101_0018_0211.npz</td>\n",
       "      <td>304/2012/01/01/AIA20120101_0018_0304.npz</td>\n",
       "      <td>335/2012/01/01/AIA20120101_0018_0335.npz</td>\n",
       "      <td>94/2012/01/01/AIA20120101_0018_0094.npz</td>\n",
       "      <td>146304</td>\n",
       "    </tr>\n",
       "    <tr>\n",
       "      <th>3</th>\n",
       "      <td>2012-01-01 00:24:00</td>\n",
       "      <td>2012-01-01T00:24:05Z</td>\n",
       "      <td>131/2012/01/01/AIA20120101_0024_0131.npz</td>\n",
       "      <td>1600/2012/01/01/AIA20120101_0024_1600.npz</td>\n",
       "      <td>1700/2012/01/01/AIA20120101_0024_1700.npz</td>\n",
       "      <td>171/2012/01/01/AIA20120101_0024_0171.npz</td>\n",
       "      <td>193/2012/01/01/AIA20120101_0024_0193.npz</td>\n",
       "      <td>211/2012/01/01/AIA20120101_0024_0211.npz</td>\n",
       "      <td>304/2012/01/01/AIA20120101_0024_0304.npz</td>\n",
       "      <td>335/2012/01/01/AIA20120101_0024_0335.npz</td>\n",
       "      <td>94/2012/01/01/AIA20120101_0024_0094.npz</td>\n",
       "      <td>146305</td>\n",
       "    </tr>\n",
       "    <tr>\n",
       "      <th>4</th>\n",
       "      <td>2012-01-01 00:30:00</td>\n",
       "      <td>2012-01-01T00:30:05Z</td>\n",
       "      <td>131/2012/01/01/AIA20120101_0030_0131.npz</td>\n",
       "      <td>1600/2012/01/01/AIA20120101_0030_1600.npz</td>\n",
       "      <td>1700/2012/01/01/AIA20120101_0030_1700.npz</td>\n",
       "      <td>171/2012/01/01/AIA20120101_0030_0171.npz</td>\n",
       "      <td>193/2012/01/01/AIA20120101_0030_0193.npz</td>\n",
       "      <td>211/2012/01/01/AIA20120101_0030_0211.npz</td>\n",
       "      <td>304/2012/01/01/AIA20120101_0030_0304.npz</td>\n",
       "      <td>335/2012/01/01/AIA20120101_0030_0335.npz</td>\n",
       "      <td>94/2012/01/01/AIA20120101_0030_0094.npz</td>\n",
       "      <td>146306</td>\n",
       "    </tr>\n",
       "  </tbody>\n",
       "</table>\n",
       "</div>"
      ],
      "text/plain": [
       "              AIA_TIME              EVE_TIME  \\\n",
       "0  2012-01-01 00:06:00  2012-01-01T00:06:05Z   \n",
       "1  2012-01-01 00:12:00  2012-01-01T00:12:05Z   \n",
       "2  2012-01-01 00:18:00  2012-01-01T00:18:05Z   \n",
       "3  2012-01-01 00:24:00  2012-01-01T00:24:05Z   \n",
       "4  2012-01-01 00:30:00  2012-01-01T00:30:05Z   \n",
       "\n",
       "                                    AIA_131  \\\n",
       "0  131/2012/01/01/AIA20120101_0006_0131.npz   \n",
       "1  131/2012/01/01/AIA20120101_0012_0131.npz   \n",
       "2  131/2012/01/01/AIA20120101_0018_0131.npz   \n",
       "3  131/2012/01/01/AIA20120101_0024_0131.npz   \n",
       "4  131/2012/01/01/AIA20120101_0030_0131.npz   \n",
       "\n",
       "                                    AIA_1600  \\\n",
       "0  1600/2012/01/01/AIA20120101_0006_1600.npz   \n",
       "1  1600/2012/01/01/AIA20120101_0012_1600.npz   \n",
       "2  1600/2012/01/01/AIA20120101_0018_1600.npz   \n",
       "3  1600/2012/01/01/AIA20120101_0024_1600.npz   \n",
       "4  1600/2012/01/01/AIA20120101_0030_1600.npz   \n",
       "\n",
       "                                    AIA_1700  \\\n",
       "0  1700/2012/01/01/AIA20120101_0006_1700.npz   \n",
       "1  1700/2012/01/01/AIA20120101_0012_1700.npz   \n",
       "2  1700/2012/01/01/AIA20120101_0018_1700.npz   \n",
       "3  1700/2012/01/01/AIA20120101_0024_1700.npz   \n",
       "4  1700/2012/01/01/AIA20120101_0030_1700.npz   \n",
       "\n",
       "                                    AIA_171  \\\n",
       "0  171/2012/01/01/AIA20120101_0006_0171.npz   \n",
       "1  171/2012/01/01/AIA20120101_0012_0171.npz   \n",
       "2  171/2012/01/01/AIA20120101_0018_0171.npz   \n",
       "3  171/2012/01/01/AIA20120101_0024_0171.npz   \n",
       "4  171/2012/01/01/AIA20120101_0030_0171.npz   \n",
       "\n",
       "                                    AIA_193  \\\n",
       "0  193/2012/01/01/AIA20120101_0006_0193.npz   \n",
       "1  193/2012/01/01/AIA20120101_0012_0193.npz   \n",
       "2  193/2012/01/01/AIA20120101_0018_0193.npz   \n",
       "3  193/2012/01/01/AIA20120101_0024_0193.npz   \n",
       "4  193/2012/01/01/AIA20120101_0030_0193.npz   \n",
       "\n",
       "                                    AIA_211  \\\n",
       "0  211/2012/01/01/AIA20120101_0006_0211.npz   \n",
       "1  211/2012/01/01/AIA20120101_0012_0211.npz   \n",
       "2  211/2012/01/01/AIA20120101_0018_0211.npz   \n",
       "3  211/2012/01/01/AIA20120101_0024_0211.npz   \n",
       "4  211/2012/01/01/AIA20120101_0030_0211.npz   \n",
       "\n",
       "                                    AIA_304  \\\n",
       "0  304/2012/01/01/AIA20120101_0006_0304.npz   \n",
       "1  304/2012/01/01/AIA20120101_0012_0304.npz   \n",
       "2  304/2012/01/01/AIA20120101_0018_0304.npz   \n",
       "3  304/2012/01/01/AIA20120101_0024_0304.npz   \n",
       "4  304/2012/01/01/AIA20120101_0030_0304.npz   \n",
       "\n",
       "                                    AIA_335  \\\n",
       "0  335/2012/01/01/AIA20120101_0006_0335.npz   \n",
       "1  335/2012/01/01/AIA20120101_0012_0335.npz   \n",
       "2  335/2012/01/01/AIA20120101_0018_0335.npz   \n",
       "3  335/2012/01/01/AIA20120101_0024_0335.npz   \n",
       "4  335/2012/01/01/AIA20120101_0030_0335.npz   \n",
       "\n",
       "                                    AIA_94  EVE_ind  \n",
       "0  94/2012/01/01/AIA20120101_0006_0094.npz   146302  \n",
       "1  94/2012/01/01/AIA20120101_0012_0094.npz   146303  \n",
       "2  94/2012/01/01/AIA20120101_0018_0094.npz   146304  \n",
       "3  94/2012/01/01/AIA20120101_0024_0094.npz   146305  \n",
       "4  94/2012/01/01/AIA20120101_0030_0094.npz   146306  "
      ]
     },
     "execution_count": 35,
     "metadata": {},
     "output_type": "execute_result"
    }
   ],
   "source": [
    "c1 = pd.read_csv(experiments_dir / \"2011p4.csv\")\n",
    "print(c1.shape)\n",
    "c1.head()"
   ]
  },
  {
   "cell_type": "code",
   "execution_count": 36,
   "id": "0f8cbe2c",
   "metadata": {},
   "outputs": [
    {
     "data": {
      "text/plain": [
       "(356074, 39)"
      ]
     },
     "execution_count": 36,
     "metadata": {},
     "output_type": "execute_result"
    }
   ],
   "source": [
    "a_init = np.load(experiments_dir / \"irradiance_10m.npy\")\n",
    "a_init.shape"
   ]
  },
  {
   "cell_type": "markdown",
   "id": "fa50389e",
   "metadata": {},
   "source": [
    "**NOTE:** We don't have the Total/Integrated Irradiance Data for any of the time ranges, so we don't have any merging to do. \n",
    "\n",
    "We will just save the Original Datasets to the correct output paths. "
   ]
  },
  {
   "cell_type": "code",
   "execution_count": 37,
   "id": "9d3d1731",
   "metadata": {},
   "outputs": [],
   "source": [
    "np.save(os.path.join(experiments_dir, \"irradiance_30mn_14ptot.npy\"), a_init)\n",
    "c1.to_csv(os.path.join(experiments_dir, \"irradiance_30mn_14ptot.csv\"), index=False)"
   ]
  },
  {
   "cell_type": "markdown",
   "id": "80143a7f",
   "metadata": {},
   "source": [
    "## Make Splits\n",
    "\n",
    "Creates Train, Validation, and Test Splits"
   ]
  },
  {
   "cell_type": "code",
   "execution_count": 38,
   "id": "638884db",
   "metadata": {},
   "outputs": [],
   "source": [
    "TRAIN_END = 0.7\n",
    "VAL_END = 0.9"
   ]
  },
  {
   "cell_type": "code",
   "execution_count": 39,
   "id": "a21cfe67",
   "metadata": {},
   "outputs": [],
   "source": [
    "source = experiments_dir / \"irradiance_30mn_14ptot.csv\""
   ]
  },
  {
   "cell_type": "code",
   "execution_count": 40,
   "id": "7f66c5f0",
   "metadata": {},
   "outputs": [],
   "source": [
    "lines = open(source).read().strip().split(\"\\n\")\n",
    "# lines.replace('fits.','')\n",
    "header, rest = lines[0], lines[1:]"
   ]
  },
  {
   "cell_type": "code",
   "execution_count": 41,
   "id": "2a001ee3",
   "metadata": {},
   "outputs": [
    {
     "name": "stdout",
     "output_type": "stream",
     "text": [
      "Total number of samples: 6543\n",
      "Train split: 4580, Validation split: 1308, Test split: 655\n"
     ]
    }
   ],
   "source": [
    "N = len(rest)\n",
    "print(f\"Total number of samples: {N}\")\n",
    "train_split = int(TRAIN_END * N)\n",
    "val_split = int(VAL_END * N)\n",
    "print(\n",
    "    f\"Train split: {train_split}, Validation split: {val_split-train_split}, Test split: {N - val_split}\"\n",
    ")"
   ]
  },
  {
   "cell_type": "code",
   "execution_count": 42,
   "id": "804b35cf",
   "metadata": {},
   "outputs": [
    {
     "name": "stdout",
     "output_type": "stream",
     "text": [
      "Train samples: 4580, Validation samples: 1308, Test samples: 655\n"
     ]
    }
   ],
   "source": [
    "train = rest[:train_split]\n",
    "val = rest[train_split:val_split]\n",
    "test = rest[val_split:]\n",
    "print(\n",
    "    f\"Train samples: {len(train)}, Validation samples: {len(val)}, Test samples: {len(test)}\"\n",
    ")"
   ]
  },
  {
   "cell_type": "code",
   "execution_count": 43,
   "id": "0d5c36a6",
   "metadata": {},
   "outputs": [],
   "source": [
    "open(experiments_dir / \"train.csv\", \"w\").write(header + \"\\n\" + (\"\\n\".join(train)))\n",
    "if len(val):\n",
    "    open(experiments_dir / \"val.csv\", \"w\").write(header + \"\\n\" + (\"\\n\".join(val)))\n",
    "if len(test):\n",
    "    open(experiments_dir / \"test.csv\", \"w\").write(header + \"\\n\" + (\"\\n\".join(test)))"
   ]
  },
  {
   "cell_type": "markdown",
   "id": "a3152b4b",
   "metadata": {},
   "source": [
    "## Make Normalize"
   ]
  },
  {
   "cell_type": "code",
   "execution_count": 44,
   "id": "a349a206",
   "metadata": {},
   "outputs": [],
   "source": [
    "irradiance_file = experiments_dir / \"irradiance_30mn_14ptot.npy\""
   ]
  },
  {
   "cell_type": "code",
   "execution_count": 45,
   "id": "eb58307f",
   "metadata": {},
   "outputs": [
    {
     "name": "stdout",
     "output_type": "stream",
     "text": [
      "Number of EVE Train indices: 4580\n"
     ]
    }
   ],
   "source": [
    "eve_all = np.load(irradiance_file)[\n",
    "    :, [0, 1, 2, 3, 4, 5, 6, 7, 8, 9, 10, 11, 12, 14, -1]\n",
    "]\n",
    "indices = pd.read_csv(experiments_dir / \"train.csv\")\n",
    "index_eve = np.asarray(indices[indices.columns[-1]]).astype(int)\n",
    "print(f\"Number of EVE Train indices: {len(index_eve)}\")"
   ]
  },
  {
   "cell_type": "code",
   "execution_count": 46,
   "id": "77037656",
   "metadata": {},
   "outputs": [
    {
     "name": "stdout",
     "output_type": "stream",
     "text": [
      "Shape of Y: (4580, 15)\n"
     ]
    }
   ],
   "source": [
    "Y = eve_all[index_eve, :]\n",
    "print(f\"Shape of Y: {Y.shape}\")\n",
    "Y[Y <= 0] = 0.0  # NOTE: Not sure why we do this, but it was in the original code."
   ]
  },
  {
   "cell_type": "code",
   "execution_count": 47,
   "id": "ac7244c3",
   "metadata": {},
   "outputs": [],
   "source": [
    "YMean = np.mean(Y, axis=0)\n",
    "YStd = np.std(Y, axis=0)\n",
    "\n",
    "np.save(experiments_dir / \"eve_mean.npy\", YMean)\n",
    "np.save(experiments_dir / \"eve_std.npy\", YStd)"
   ]
  },
  {
   "cell_type": "code",
   "execution_count": 48,
   "id": "07ccd1fa",
   "metadata": {},
   "outputs": [],
   "source": [
    "# sqrt\n",
    "YSqrt = np.sqrt(Y)\n",
    "YSqrtMean = np.mean(YSqrt, axis=0)\n",
    "YSqrtStd = np.std(YSqrt, axis=0)\n",
    "\n",
    "np.save(experiments_dir / \"eve_sqrt_mean.npy\", YSqrtMean)\n",
    "np.save(experiments_dir / \"eve_sqrt_std.npy\", YSqrtStd)"
   ]
  },
  {
   "cell_type": "code",
   "execution_count": 49,
   "id": "99289649",
   "metadata": {},
   "outputs": [
    {
     "name": "stdout",
     "output_type": "stream",
     "text": [
      "[0.00264999 0.00171251 0.00107868 0.00761031 0.00648018 0.00802716\n",
      " 0.00744231 0.00717925 0.00611521 0.00641871 0.00888271 0.02322948\n",
      " 0.00669147 0.00622833 0.00198047]\n",
      "[0.0002862  0.00017708 0.00018658 0.00079333 0.00066805 0.00082176\n",
      " 0.00075717 0.00072678 0.00062223 0.00065397 0.0009135  0.00236204\n",
      " 0.0006997  0.00064414 0.00351472]\n"
     ]
    }
   ],
   "source": [
    "print(YSqrtMean)\n",
    "print(YSqrtStd)"
   ]
  },
  {
   "cell_type": "code",
   "execution_count": 50,
   "id": "1ffe6c00",
   "metadata": {},
   "outputs": [
    {
     "data": {
      "text/plain": [
       "array(['/Users/andrewrobbertz/__SOC_CODE__/_data_/SDO/experiments/AIA/131/2012/01/01/AIA20120101_0012_0131.npz',\n",
       "       '/Users/andrewrobbertz/__SOC_CODE__/_data_/SDO/experiments/AIA/1600/2012/01/01/AIA20120101_0012_1600.npz',\n",
       "       '/Users/andrewrobbertz/__SOC_CODE__/_data_/SDO/experiments/AIA/1700/2012/01/01/AIA20120101_0012_1700.npz',\n",
       "       '/Users/andrewrobbertz/__SOC_CODE__/_data_/SDO/experiments/AIA/171/2012/01/01/AIA20120101_0012_0171.npz',\n",
       "       '/Users/andrewrobbertz/__SOC_CODE__/_data_/SDO/experiments/AIA/193/2012/01/01/AIA20120101_0012_0193.npz',\n",
       "       '/Users/andrewrobbertz/__SOC_CODE__/_data_/SDO/experiments/AIA/211/2012/01/01/AIA20120101_0012_0211.npz',\n",
       "       '/Users/andrewrobbertz/__SOC_CODE__/_data_/SDO/experiments/AIA/304/2012/01/01/AIA20120101_0012_0304.npz',\n",
       "       '/Users/andrewrobbertz/__SOC_CODE__/_data_/SDO/experiments/AIA/335/2012/01/01/AIA20120101_0012_0335.npz',\n",
       "       '/Users/andrewrobbertz/__SOC_CODE__/_data_/SDO/experiments/AIA/94/2012/01/01/AIA20120101_0012_0094.npz'],\n",
       "      dtype=object)"
      ]
     },
     "execution_count": 50,
     "metadata": {},
     "output_type": "execute_result"
    }
   ],
   "source": [
    "index_aia = (\n",
    "    str(experiments_dir)\n",
    "    + \"/AIA/\"\n",
    "    + np.asarray(indices[[channel for channel in indices.columns[2:11]]])\n",
    ")\n",
    "index_aia[1]"
   ]
  },
  {
   "cell_type": "code",
   "execution_count": 51,
   "id": "02169bb7",
   "metadata": {},
   "outputs": [
    {
     "name": "stderr",
     "output_type": "stream",
     "text": [
      "100%|██████████| 229/229 [00:10<00:00, 20.86it/s]\n"
     ]
    }
   ],
   "source": [
    "AIA_samples = []\n",
    "AIA_samples_sqrt = []\n",
    "\n",
    "for index in tqdm(range(0, Y.shape[0], 20)):\n",
    "\n",
    "    # X.shape == (9, 512, 512) // 9 Wavelengths x (512x512 image)\n",
    "    X = np.asarray(\n",
    "        [np.load(channel.replace(\".fits\", \"\"))[\"x\"] for channel in index_aia[index, :]]\n",
    "    ).astype(dtype=float)\n",
    "\n",
    "    Xsqrt = np.sqrt(X)\n",
    "    AIA_samples_sqrt.append(np.expand_dims(Xsqrt, axis=0))\n",
    "    AIA_samples.append(np.expand_dims(X, axis=0))"
   ]
  },
  {
   "cell_type": "code",
   "execution_count": 52,
   "id": "74f48324",
   "metadata": {},
   "outputs": [],
   "source": [
    "AIA_samples_sqrt = np.concatenate(AIA_samples_sqrt, axis=0)\n",
    "AIA_m_sqrt = np.mean(AIA_samples_sqrt, axis=(0, 2, 3))\n",
    "AIA_s_sqrt = np.std(AIA_samples_sqrt, axis=(0, 2, 3))\n",
    "\n",
    "np.save(experiments_dir / \"aia_sqrt_mean.npy\", AIA_m_sqrt)\n",
    "np.save(experiments_dir / \"aia_sqrt_std.npy\", AIA_s_sqrt)"
   ]
  },
  {
   "cell_type": "code",
   "execution_count": 53,
   "id": "c503798a",
   "metadata": {},
   "outputs": [],
   "source": [
    "AIA_samples = np.concatenate(AIA_samples, axis=0)\n",
    "AIA_m = np.mean(AIA_samples, axis=(0, 2, 3))\n",
    "AIA_s = np.std(AIA_samples, axis=(0, 2, 3))\n",
    "\n",
    "np.save(experiments_dir / \"aia_mean.npy\", AIA_m)\n",
    "np.save(experiments_dir / \"aia_std.npy\", AIA_s)"
   ]
  },
  {
   "cell_type": "code",
   "execution_count": null,
   "id": "ac38d893",
   "metadata": {},
   "outputs": [],
   "source": []
  }
 ],
 "metadata": {
  "kernelspec": {
   "display_name": "swxsoc",
   "language": "python",
   "name": "python3"
  },
  "language_info": {
   "codemirror_mode": {
    "name": "ipython",
    "version": 3
   },
   "file_extension": ".py",
   "mimetype": "text/x-python",
   "name": "python",
   "nbconvert_exporter": "python",
   "pygments_lexer": "ipython3",
   "version": "3.12.8"
  }
 },
 "nbformat": 4,
 "nbformat_minor": 5
}
