{
 "cells": [
  {
   "cell_type": "code",
   "execution_count": 1,
   "id": "b5d951e3",
   "metadata": {},
   "outputs": [],
   "source": [
    "import datetime\n",
    "import os\n",
    "import re\n",
    "import multiprocessing\n",
    "from pathlib import Path\n",
    "\n",
    "import numpy as np\n",
    "import pandas as pd\n",
    "from sklearn.linear_model import SGDRegressor\n",
    "from tqdm import tqdm\n",
    "import matplotlib.pyplot as plt"
   ]
  },
  {
   "cell_type": "code",
   "execution_count": 2,
   "id": "8c552d3d",
   "metadata": {},
   "outputs": [],
   "source": [
    "from setup_residual_totirr import (\n",
    "    getEVEInd,\n",
    "    handleStd,\n",
    "    getXy,\n",
    "    addOne,\n",
    "    getResid,\n",
    "    fitSGDR_Huber,\n",
    "    applySGDmodel,\n",
    "    cvSGDH,\n",
    "    getNormalize,\n",
    ")"
   ]
  },
  {
   "cell_type": "markdown",
   "id": "68563cb4",
   "metadata": {},
   "source": [
    "## Train Linear Model on Means & STDs of AIA Images"
   ]
  },
  {
   "cell_type": "code",
   "execution_count": 3,
   "id": "23ae4c7a",
   "metadata": {},
   "outputs": [],
   "source": [
    "root = Path(\"/Users/andrewrobbertz/__SOC_CODE__/_data_/SDO/\")\n",
    "download_dir = root / \"downloads\"\n",
    "experiments_dir = root / \"experiments\"\n",
    "\n",
    "assert download_dir.exists(), f\"Download directory {download_dir} does not exist.\"\n",
    "assert (\n",
    "    experiments_dir.exists()\n",
    "), f\"Experiments directory {experiments_dir} does not exist.\""
   ]
  },
  {
   "cell_type": "code",
   "execution_count": 4,
   "id": "a019d52b",
   "metadata": {},
   "outputs": [],
   "source": [
    "data_root = experiments_dir"
   ]
  },
  {
   "cell_type": "code",
   "execution_count": 5,
   "id": "a964c990",
   "metadata": {},
   "outputs": [
    {
     "name": "stdout",
     "output_type": "stream",
     "text": [
      "Loading EVE data from /Users/andrewrobbertz/__SOC_CODE__/_data_/SDO/experiments/irradiance_30mn_14ptot.npy\n"
     ]
    }
   ],
   "source": [
    "EVE_path = \"%s/irradiance_30mn_14ptot.npy\" % data_root\n",
    "print(\"Loading EVE data from %s\" % EVE_path)"
   ]
  },
  {
   "cell_type": "code",
   "execution_count": 6,
   "id": "5cd042b8",
   "metadata": {},
   "outputs": [
    {
     "name": "stdout",
     "output_type": "stream",
     "text": [
      "test 0/655\n",
      "test 100/655\n",
      "test 200/655\n",
      "test 300/655\n",
      "test 400/655\n",
      "test 500/655\n",
      "test 600/655\n",
      "train 0/4580\n",
      "train 100/4580\n",
      "train 200/4580\n",
      "train 300/4580\n",
      "train 400/4580\n",
      "train 500/4580\n",
      "train 600/4580\n",
      "train 700/4580\n",
      "train 800/4580\n",
      "train 900/4580\n",
      "train 1000/4580\n",
      "train 1100/4580\n",
      "train 1200/4580\n",
      "train 1300/4580\n",
      "train 1400/4580\n",
      "train 1500/4580\n",
      "train 1600/4580\n",
      "train 1700/4580\n",
      "train 1800/4580\n",
      "train 1900/4580\n",
      "train 2000/4580\n",
      "train 2100/4580\n",
      "train 2200/4580\n",
      "train 2300/4580\n",
      "train 2400/4580\n",
      "train 2500/4580\n",
      "train 2600/4580\n",
      "train 2700/4580\n",
      "train 2800/4580\n",
      "train 2900/4580\n",
      "train 3000/4580\n",
      "train 3100/4580\n",
      "train 3200/4580\n",
      "train 3300/4580\n",
      "train 3400/4580\n",
      "train 3500/4580\n",
      "train 3600/4580\n",
      "train 3700/4580\n",
      "train 3800/4580\n",
      "train 3900/4580\n",
      "train 4000/4580\n",
      "train 4100/4580\n",
      "train 4200/4580\n",
      "train 4300/4580\n",
      "train 4400/4580\n",
      "train 4500/4580\n",
      "val 0/1308\n",
      "val 100/1308\n",
      "val 200/1308\n",
      "val 300/1308\n",
      "val 400/1308\n",
      "val 500/1308\n",
      "val 600/1308\n",
      "val 700/1308\n",
      "val 800/1308\n",
      "val 900/1308\n",
      "val 1000/1308\n",
      "val 1100/1308\n",
      "val 1200/1308\n",
      "val 1300/1308\n"
     ]
    }
   ],
   "source": [
    "# get the data\n",
    "XTe, ___, ______ = getXy(EVE_path, f\"{data_root}/\", \"test\")\n",
    "XTr, yTr, maskTr = getXy(EVE_path, f\"{data_root}/\", \"train\")\n",
    "XVa, yVa, maskVa = getXy(EVE_path, f\"{data_root}/\", \"val\")"
   ]
  },
  {
   "cell_type": "code",
   "execution_count": 7,
   "id": "f60a28ec",
   "metadata": {},
   "outputs": [],
   "source": [
    "np.savez_compressed(\"%s/mean_std_feats.npz\" % data_root, XTr=XTr, XVa=XVa, XTe=XTe)"
   ]
  },
  {
   "cell_type": "code",
   "execution_count": 8,
   "id": "e132896f",
   "metadata": {},
   "outputs": [],
   "source": [
    "mu, sig = getNormalize(XTr)\n",
    "\n",
    "XTr = addOne((XTr - mu) / sig)\n",
    "XVa = addOne((XVa - mu) / sig)\n",
    "XTe = addOne((XTe - mu) / sig)"
   ]
  },
  {
   "cell_type": "code",
   "execution_count": 9,
   "id": "3c0bb091",
   "metadata": {},
   "outputs": [
    {
     "name": "stdout",
     "output_type": "stream",
     "text": [
      "CV'ing huber epsilon, regularization\n",
      "a = 10e-5, eps = 1.000000 => 0.063972\n",
      "a = 10e-4, eps = 1.000000 => 0.063972\n",
      "a = 10e-3, eps = 1.000000 => 0.063998\n",
      "a = 10e-2, eps = 1.000000 => 0.067391\n",
      "a = 10e-1, eps = 1.000000 => 0.144655\n",
      "a = 10e0, eps = 1.000000 => 0.864759\n",
      "a = 10e-5, eps = 0.500000 => 0.071665\n",
      "a = 10e-4, eps = 0.500000 => 0.071670\n"
     ]
    },
    {
     "name": "stderr",
     "output_type": "stream",
     "text": [
      "/Users/andrewrobbertz/__SOC_CODE__/ROSES_ML/virtual-eve/canonical_code/setup_residual_totirr.py:105: RuntimeWarning: divide by zero encountered in divide\n",
      "  resid = resid / np.abs(y)\n",
      "/Users/andrewrobbertz/__SOC_CODE__/ROSES_ML/virtual-eve/canonical_code/setup_residual_totirr.py:105: RuntimeWarning: divide by zero encountered in divide\n",
      "  resid = resid / np.abs(y)\n",
      "/Users/andrewrobbertz/__SOC_CODE__/ROSES_ML/virtual-eve/canonical_code/setup_residual_totirr.py:105: RuntimeWarning: divide by zero encountered in divide\n",
      "  resid = resid / np.abs(y)\n",
      "/Users/andrewrobbertz/__SOC_CODE__/ROSES_ML/virtual-eve/canonical_code/setup_residual_totirr.py:105: RuntimeWarning: divide by zero encountered in divide\n",
      "  resid = resid / np.abs(y)\n",
      "/Users/andrewrobbertz/__SOC_CODE__/ROSES_ML/virtual-eve/canonical_code/setup_residual_totirr.py:105: RuntimeWarning: divide by zero encountered in divide\n",
      "  resid = resid / np.abs(y)\n",
      "/Users/andrewrobbertz/__SOC_CODE__/ROSES_ML/virtual-eve/canonical_code/setup_residual_totirr.py:105: RuntimeWarning: divide by zero encountered in divide\n",
      "  resid = resid / np.abs(y)\n",
      "/Users/andrewrobbertz/__SOC_CODE__/ROSES_ML/virtual-eve/canonical_code/setup_residual_totirr.py:105: RuntimeWarning: divide by zero encountered in divide\n",
      "  resid = resid / np.abs(y)\n",
      "/Users/andrewrobbertz/__SOC_CODE__/ROSES_ML/virtual-eve/canonical_code/setup_residual_totirr.py:105: RuntimeWarning: divide by zero encountered in divide\n",
      "  resid = resid / np.abs(y)\n",
      "/Users/andrewrobbertz/__SOC_CODE__/ROSES_ML/virtual-eve/canonical_code/setup_residual_totirr.py:105: RuntimeWarning: divide by zero encountered in divide\n",
      "  resid = resid / np.abs(y)\n"
     ]
    },
    {
     "name": "stdout",
     "output_type": "stream",
     "text": [
      "a = 10e-3, eps = 0.500000 => 0.071750\n",
      "a = 10e-2, eps = 0.500000 => 0.075035\n",
      "a = 10e-1, eps = 0.500000 => 0.512213\n",
      "a = 10e0, eps = 0.500000 => 0.932065\n",
      "a = 10e-5, eps = 0.333333 => 0.094062\n",
      "a = 10e-4, eps = 0.333333 => 0.094711\n",
      "a = 10e-3, eps = 0.333333 => 0.101543\n",
      "a = 10e-2, eps = 0.333333 => 0.185633\n",
      "a = 10e-1, eps = 0.333333 => 0.655588\n"
     ]
    },
    {
     "name": "stderr",
     "output_type": "stream",
     "text": [
      "/Users/andrewrobbertz/__SOC_CODE__/ROSES_ML/virtual-eve/canonical_code/setup_residual_totirr.py:105: RuntimeWarning: divide by zero encountered in divide\n",
      "  resid = resid / np.abs(y)\n",
      "/Users/andrewrobbertz/__SOC_CODE__/ROSES_ML/virtual-eve/canonical_code/setup_residual_totirr.py:105: RuntimeWarning: divide by zero encountered in divide\n",
      "  resid = resid / np.abs(y)\n",
      "/Users/andrewrobbertz/__SOC_CODE__/ROSES_ML/virtual-eve/canonical_code/setup_residual_totirr.py:105: RuntimeWarning: divide by zero encountered in divide\n",
      "  resid = resid / np.abs(y)\n",
      "/Users/andrewrobbertz/__SOC_CODE__/ROSES_ML/virtual-eve/canonical_code/setup_residual_totirr.py:105: RuntimeWarning: divide by zero encountered in divide\n",
      "  resid = resid / np.abs(y)\n",
      "/Users/andrewrobbertz/__SOC_CODE__/ROSES_ML/virtual-eve/canonical_code/setup_residual_totirr.py:105: RuntimeWarning: divide by zero encountered in divide\n",
      "  resid = resid / np.abs(y)\n",
      "/Users/andrewrobbertz/__SOC_CODE__/ROSES_ML/virtual-eve/canonical_code/setup_residual_totirr.py:105: RuntimeWarning: divide by zero encountered in divide\n",
      "  resid = resid / np.abs(y)\n",
      "/Users/andrewrobbertz/__SOC_CODE__/ROSES_ML/virtual-eve/canonical_code/setup_residual_totirr.py:105: RuntimeWarning: divide by zero encountered in divide\n",
      "  resid = resid / np.abs(y)\n",
      "/Users/andrewrobbertz/__SOC_CODE__/ROSES_ML/virtual-eve/canonical_code/setup_residual_totirr.py:105: RuntimeWarning: divide by zero encountered in divide\n",
      "  resid = resid / np.abs(y)\n",
      "/Users/andrewrobbertz/__SOC_CODE__/ROSES_ML/virtual-eve/canonical_code/setup_residual_totirr.py:105: RuntimeWarning: divide by zero encountered in divide\n",
      "  resid = resid / np.abs(y)\n"
     ]
    },
    {
     "name": "stdout",
     "output_type": "stream",
     "text": [
      "a = 10e0, eps = 0.333333 => 0.954615\n",
      "a = 10e-5, eps = 0.250000 => 0.288858\n",
      "a = 10e-4, eps = 0.250000 => 0.289696\n",
      "a = 10e-3, eps = 0.250000 => 0.297992\n",
      "a = 10e-2, eps = 0.250000 => 0.373365\n",
      "a = 10e-1, eps = 0.250000 => 0.727341\n",
      "a = 10e0, eps = 0.250000 => 0.965936\n",
      "a = 10e-5, eps = 0.200000 => 0.418609\n",
      "a = 10e-4, eps = 0.200000 => 0.419275\n"
     ]
    },
    {
     "name": "stderr",
     "output_type": "stream",
     "text": [
      "/Users/andrewrobbertz/__SOC_CODE__/ROSES_ML/virtual-eve/canonical_code/setup_residual_totirr.py:105: RuntimeWarning: divide by zero encountered in divide\n",
      "  resid = resid / np.abs(y)\n",
      "/Users/andrewrobbertz/__SOC_CODE__/ROSES_ML/virtual-eve/canonical_code/setup_residual_totirr.py:105: RuntimeWarning: divide by zero encountered in divide\n",
      "  resid = resid / np.abs(y)\n",
      "/Users/andrewrobbertz/__SOC_CODE__/ROSES_ML/virtual-eve/canonical_code/setup_residual_totirr.py:105: RuntimeWarning: divide by zero encountered in divide\n",
      "  resid = resid / np.abs(y)\n",
      "/Users/andrewrobbertz/__SOC_CODE__/ROSES_ML/virtual-eve/canonical_code/setup_residual_totirr.py:105: RuntimeWarning: divide by zero encountered in divide\n",
      "  resid = resid / np.abs(y)\n",
      "/Users/andrewrobbertz/__SOC_CODE__/ROSES_ML/virtual-eve/canonical_code/setup_residual_totirr.py:105: RuntimeWarning: divide by zero encountered in divide\n",
      "  resid = resid / np.abs(y)\n",
      "/Users/andrewrobbertz/__SOC_CODE__/ROSES_ML/virtual-eve/canonical_code/setup_residual_totirr.py:105: RuntimeWarning: divide by zero encountered in divide\n",
      "  resid = resid / np.abs(y)\n",
      "/Users/andrewrobbertz/__SOC_CODE__/ROSES_ML/virtual-eve/canonical_code/setup_residual_totirr.py:105: RuntimeWarning: divide by zero encountered in divide\n",
      "  resid = resid / np.abs(y)\n",
      "/Users/andrewrobbertz/__SOC_CODE__/ROSES_ML/virtual-eve/canonical_code/setup_residual_totirr.py:105: RuntimeWarning: divide by zero encountered in divide\n",
      "  resid = resid / np.abs(y)\n",
      "/Users/andrewrobbertz/__SOC_CODE__/ROSES_ML/virtual-eve/canonical_code/setup_residual_totirr.py:105: RuntimeWarning: divide by zero encountered in divide\n",
      "  resid = resid / np.abs(y)\n"
     ]
    },
    {
     "name": "stdout",
     "output_type": "stream",
     "text": [
      "a = 10e-3, eps = 0.200000 => 0.425873\n",
      "a = 10e-2, eps = 0.200000 => 0.486091\n",
      "a = 10e-1, eps = 0.200000 => 0.771690\n",
      "a = 10e0, eps = 0.200000 => 0.972749\n",
      "a = 10e-5, eps = 0.166667 => 0.504906\n",
      "a = 10e-4, eps = 0.166667 => 0.505460\n",
      "a = 10e-3, eps = 0.166667 => 0.510955\n",
      "a = 10e-2, eps = 0.166667 => 0.561201\n",
      "a = 10e-1, eps = 0.166667 => 0.809930\n"
     ]
    },
    {
     "name": "stderr",
     "output_type": "stream",
     "text": [
      "/Users/andrewrobbertz/__SOC_CODE__/ROSES_ML/virtual-eve/canonical_code/setup_residual_totirr.py:105: RuntimeWarning: divide by zero encountered in divide\n",
      "  resid = resid / np.abs(y)\n",
      "/Users/andrewrobbertz/__SOC_CODE__/ROSES_ML/virtual-eve/canonical_code/setup_residual_totirr.py:105: RuntimeWarning: divide by zero encountered in divide\n",
      "  resid = resid / np.abs(y)\n",
      "/Users/andrewrobbertz/__SOC_CODE__/ROSES_ML/virtual-eve/canonical_code/setup_residual_totirr.py:105: RuntimeWarning: divide by zero encountered in divide\n",
      "  resid = resid / np.abs(y)\n",
      "/Users/andrewrobbertz/__SOC_CODE__/ROSES_ML/virtual-eve/canonical_code/setup_residual_totirr.py:105: RuntimeWarning: divide by zero encountered in divide\n",
      "  resid = resid / np.abs(y)\n",
      "/Users/andrewrobbertz/__SOC_CODE__/ROSES_ML/virtual-eve/canonical_code/setup_residual_totirr.py:105: RuntimeWarning: divide by zero encountered in divide\n",
      "  resid = resid / np.abs(y)\n",
      "/Users/andrewrobbertz/__SOC_CODE__/ROSES_ML/virtual-eve/canonical_code/setup_residual_totirr.py:105: RuntimeWarning: divide by zero encountered in divide\n",
      "  resid = resid / np.abs(y)\n",
      "/Users/andrewrobbertz/__SOC_CODE__/ROSES_ML/virtual-eve/canonical_code/setup_residual_totirr.py:105: RuntimeWarning: divide by zero encountered in divide\n",
      "  resid = resid / np.abs(y)\n",
      "/Users/andrewrobbertz/__SOC_CODE__/ROSES_ML/virtual-eve/canonical_code/setup_residual_totirr.py:105: RuntimeWarning: divide by zero encountered in divide\n",
      "  resid = resid / np.abs(y)\n",
      "/Users/andrewrobbertz/__SOC_CODE__/ROSES_ML/virtual-eve/canonical_code/setup_residual_totirr.py:105: RuntimeWarning: divide by zero encountered in divide\n",
      "  resid = resid / np.abs(y)\n"
     ]
    },
    {
     "name": "stdout",
     "output_type": "stream",
     "text": [
      "a = 10e0, eps = 0.166667 => 0.977291\n",
      "a = 10e-5, eps = 0.142857 => 0.566455\n",
      "a = 10e-4, eps = 0.142857 => 0.566932\n",
      "a = 10e-3, eps = 0.142857 => 0.571660\n",
      "a = 10e-2, eps = 0.142857 => 0.614852\n",
      "a = 10e-1, eps = 0.142857 => 0.837069\n",
      "a = 10e0, eps = 0.142857 => 0.980535\n",
      "a = 10e-5, eps = 0.125000 => 0.612619\n",
      "a = 10e-4, eps = 0.125000 => 0.613037\n"
     ]
    },
    {
     "name": "stderr",
     "output_type": "stream",
     "text": [
      "/Users/andrewrobbertz/__SOC_CODE__/ROSES_ML/virtual-eve/canonical_code/setup_residual_totirr.py:105: RuntimeWarning: divide by zero encountered in divide\n",
      "  resid = resid / np.abs(y)\n",
      "/Users/andrewrobbertz/__SOC_CODE__/ROSES_ML/virtual-eve/canonical_code/setup_residual_totirr.py:105: RuntimeWarning: divide by zero encountered in divide\n",
      "  resid = resid / np.abs(y)\n",
      "/Users/andrewrobbertz/__SOC_CODE__/ROSES_ML/virtual-eve/canonical_code/setup_residual_totirr.py:105: RuntimeWarning: divide by zero encountered in divide\n",
      "  resid = resid / np.abs(y)\n",
      "/Users/andrewrobbertz/__SOC_CODE__/ROSES_ML/virtual-eve/canonical_code/setup_residual_totirr.py:105: RuntimeWarning: divide by zero encountered in divide\n",
      "  resid = resid / np.abs(y)\n",
      "/Users/andrewrobbertz/__SOC_CODE__/ROSES_ML/virtual-eve/canonical_code/setup_residual_totirr.py:105: RuntimeWarning: divide by zero encountered in divide\n",
      "  resid = resid / np.abs(y)\n",
      "/Users/andrewrobbertz/__SOC_CODE__/ROSES_ML/virtual-eve/canonical_code/setup_residual_totirr.py:105: RuntimeWarning: divide by zero encountered in divide\n",
      "  resid = resid / np.abs(y)\n",
      "/Users/andrewrobbertz/__SOC_CODE__/ROSES_ML/virtual-eve/canonical_code/setup_residual_totirr.py:105: RuntimeWarning: divide by zero encountered in divide\n",
      "  resid = resid / np.abs(y)\n",
      "/Users/andrewrobbertz/__SOC_CODE__/ROSES_ML/virtual-eve/canonical_code/setup_residual_totirr.py:105: RuntimeWarning: divide by zero encountered in divide\n",
      "  resid = resid / np.abs(y)\n",
      "/Users/andrewrobbertz/__SOC_CODE__/ROSES_ML/virtual-eve/canonical_code/setup_residual_totirr.py:105: RuntimeWarning: divide by zero encountered in divide\n",
      "  resid = resid / np.abs(y)\n"
     ]
    },
    {
     "name": "stdout",
     "output_type": "stream",
     "text": [
      "a = 10e-3, eps = 0.125000 => 0.617179\n",
      "a = 10e-2, eps = 0.125000 => 0.655003\n",
      "a = 10e-1, eps = 0.125000 => 0.857399\n",
      "a = 10e0, eps = 0.125000 => 0.982968\n",
      "a = 10e-5, eps = 0.111111 => 0.648438\n",
      "a = 10e-4, eps = 0.111111 => 0.648810\n",
      "a = 10e-3, eps = 0.111111 => 0.652497\n",
      "a = 10e-2, eps = 0.111111 => 0.686178\n",
      "a = 10e-1, eps = 0.111111 => 0.873212\n"
     ]
    },
    {
     "name": "stderr",
     "output_type": "stream",
     "text": [
      "/Users/andrewrobbertz/__SOC_CODE__/ROSES_ML/virtual-eve/canonical_code/setup_residual_totirr.py:105: RuntimeWarning: divide by zero encountered in divide\n",
      "  resid = resid / np.abs(y)\n",
      "/Users/andrewrobbertz/__SOC_CODE__/ROSES_ML/virtual-eve/canonical_code/setup_residual_totirr.py:105: RuntimeWarning: divide by zero encountered in divide\n",
      "  resid = resid / np.abs(y)\n",
      "/Users/andrewrobbertz/__SOC_CODE__/ROSES_ML/virtual-eve/canonical_code/setup_residual_totirr.py:105: RuntimeWarning: divide by zero encountered in divide\n",
      "  resid = resid / np.abs(y)\n",
      "/Users/andrewrobbertz/__SOC_CODE__/ROSES_ML/virtual-eve/canonical_code/setup_residual_totirr.py:105: RuntimeWarning: divide by zero encountered in divide\n",
      "  resid = resid / np.abs(y)\n",
      "/Users/andrewrobbertz/__SOC_CODE__/ROSES_ML/virtual-eve/canonical_code/setup_residual_totirr.py:105: RuntimeWarning: divide by zero encountered in divide\n",
      "  resid = resid / np.abs(y)\n",
      "/Users/andrewrobbertz/__SOC_CODE__/ROSES_ML/virtual-eve/canonical_code/setup_residual_totirr.py:105: RuntimeWarning: divide by zero encountered in divide\n",
      "  resid = resid / np.abs(y)\n",
      "/Users/andrewrobbertz/__SOC_CODE__/ROSES_ML/virtual-eve/canonical_code/setup_residual_totirr.py:105: RuntimeWarning: divide by zero encountered in divide\n",
      "  resid = resid / np.abs(y)\n",
      "/Users/andrewrobbertz/__SOC_CODE__/ROSES_ML/virtual-eve/canonical_code/setup_residual_totirr.py:105: RuntimeWarning: divide by zero encountered in divide\n",
      "  resid = resid / np.abs(y)\n",
      "/Users/andrewrobbertz/__SOC_CODE__/ROSES_ML/virtual-eve/canonical_code/setup_residual_totirr.py:105: RuntimeWarning: divide by zero encountered in divide\n",
      "  resid = resid / np.abs(y)\n"
     ]
    },
    {
     "name": "stdout",
     "output_type": "stream",
     "text": [
      "a = 10e0, eps = 0.111111 => 0.984860\n",
      "Best a = 10e-4, eps = 1.000000\n"
     ]
    }
   ],
   "source": [
    "model = cvSGDH(XTr, yTr, XVa, yVa, maskVa)"
   ]
  },
  {
   "cell_type": "code",
   "execution_count": 10,
   "id": "9b403dff",
   "metadata": {},
   "outputs": [],
   "source": [
    "# Predictions = X*W'\n",
    "yTrp = np.dot(XTr, model.T)\n",
    "yVap = np.dot(XVa, model.T)\n",
    "yTep = np.dot(XTe, model.T)"
   ]
  },
  {
   "cell_type": "code",
   "execution_count": 11,
   "id": "f17c0f65",
   "metadata": {},
   "outputs": [],
   "source": [
    "# these are the new targets\n",
    "diffTr = yTr - yTrp\n",
    "diffTr[maskTr] = 0\n",
    "diffVa = yVa - yVap\n",
    "diffVa[maskVa] = 0"
   ]
  },
  {
   "cell_type": "code",
   "execution_count": 12,
   "id": "a7cd1f22",
   "metadata": {},
   "outputs": [
    {
     "data": {
      "image/png": "[encoded data removed]",
      "text/plain": [
       "<Figure size 1000x500 with 1 Axes>"
      ]
     },
     "metadata": {},
     "output_type": "display_data"
    }
   ],
   "source": [
    "train_error = np.mean(diffTr, axis=1)\n",
    "val_error = np.mean(diffVa, axis=1)\n",
    "\n",
    "plt.figure(figsize=(10, 5))\n",
    "plt.plot(train_error, label=\"Train Error\")\n",
    "plt.plot(val_error, label=\"Validation Error\")\n",
    "plt.xlabel(\"Sample Index\")\n",
    "plt.ylabel(\"Mean Absolute Error\")\n",
    "plt.title(\"Training and Validation Error\")\n",
    "plt.legend()\n",
    "plt.grid()\n",
    "plt.show()"
   ]
  },
  {
   "cell_type": "code",
   "execution_count": 13,
   "id": "9539a980",
   "metadata": {},
   "outputs": [
    {
     "name": "stdout",
     "output_type": "stream",
     "text": [
      "Train Error: Mean = 0.0000010, Std = 0.0000016\n",
      "Validation Error: Mean = 0.0000010, Std = 0.0000018\n"
     ]
    }
   ],
   "source": [
    "print(\"Train Error: Mean = %.7f, Std = %.7f\" % (train_error.mean(), train_error.std()))\n",
    "print(\"Validation Error: Mean = %.7f, Std = %.7f\" % (val_error.mean(), val_error.std()))"
   ]
  },
  {
   "cell_type": "code",
   "execution_count": 14,
   "id": "751708f3",
   "metadata": {},
   "outputs": [],
   "source": [
    "# update EVE\n",
    "EVE = np.load(EVE_path)\n",
    "updates = [(\"train\", diffTr), (\"val\", diffVa)]\n",
    "for phaseName, newVals in updates:\n",
    "    yind, xind = getEVEInd(f\"{data_root}/\", phaseName)\n",
    "    for yii, yi in enumerate(yind):\n",
    "        EVE[yi, xind] = newVals[yii, :]\n",
    "\n",
    "# new statistics\n",
    "residualMean = np.mean(diffTr, axis=0)\n",
    "residualStd = np.std(diffTr, axis=0)\n",
    "\n",
    "np.save(\"%s/eve_residual_mean_14ptot.npy\" % data_root, residualMean)\n",
    "np.save(\"%s/eve_residual_std_14ptot.npy\" % data_root, residualStd)\n",
    "\n",
    "# rescale targets\n",
    "EVE *= 100\n",
    "\n",
    "# Save the new target and the model\n",
    "np.save(\"%s/irradiance_30mn_residual_14ptot.npy\" % data_root, EVE)\n",
    "np.savez_compressed(\n",
    "    \"%s/residual_initial_model.npz\" % data_root, model=model, mu=mu, sig=sig\n",
    ")"
   ]
  },
  {
   "cell_type": "code",
   "execution_count": null,
   "id": "8c7ef9b0",
   "metadata": {},
   "outputs": [],
   "source": []
  }
 ],
 "metadata": {
  "kernelspec": {
   "display_name": "swxsoc",
   "language": "python",
   "name": "python3"
  },
  "language_info": {
   "codemirror_mode": {
    "name": "ipython",
    "version": 3
   },
   "file_extension": ".py",
   "mimetype": "text/x-python",
   "name": "python",
   "nbconvert_exporter": "python",
   "pygments_lexer": "ipython3",
   "version": "3.12.8"
  }
 },
 "nbformat": 4,
 "nbformat_minor": 5
}
