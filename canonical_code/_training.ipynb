{
 "cells": [
  {
   "cell_type": "code",
   "execution_count": 1,
   "id": "b5d951e3",
   "metadata": {},
   "outputs": [],
   "source": [
    "import copy\n",
    "import json\n",
    "import time\n",
    "from datetime import datetime\n",
    "from pathlib import Path\n",
    "\n",
    "import matplotlib.pyplot as plt\n",
    "import numpy as np\n",
    "import torch\n",
    "import torch.nn as nn\n",
    "import torch.optim as optim\n",
    "from torchvision import models, transforms"
   ]
  },
  {
   "cell_type": "code",
   "execution_count": 2,
   "id": "8c552d3d",
   "metadata": {},
   "outputs": [],
   "source": [
    "import alt_models\n",
    "from setup_residual_totirr import (addOne, applySGDmodel, cvSGDH,\n",
    "                                   fitSGDR_Huber, getEVEInd, getNormalize,\n",
    "                                   getResid, getXy, handleStd)\n",
    "from util.SW_Dataset_bakeoff_totirr import SW_Dataset"
   ]
  },
  {
   "cell_type": "markdown",
   "id": "68563cb4",
   "metadata": {},
   "source": [
    "## Train Linear Model on Means & STDs of AIA Images"
   ]
  },
  {
   "cell_type": "code",
   "execution_count": 3,
   "id": "23ae4c7a",
   "metadata": {},
   "outputs": [],
   "source": [
    "root = Path(\"/Users/andrewrobbertz/__SOC_CODE__/_data_/SDO/\")\n",
    "download_dir = root / \"downloads\"\n",
    "experiments_dir = root / \"experiments\"\n",
    "\n",
    "assert download_dir.exists(), f\"Download directory {download_dir} does not exist.\"\n",
    "assert (\n",
    "    experiments_dir.exists()\n",
    "), f\"Experiments directory {experiments_dir} does not exist.\""
   ]
  },
  {
   "cell_type": "code",
   "execution_count": 4,
   "id": "a019d52b",
   "metadata": {},
   "outputs": [],
   "source": [
    "data_root = experiments_dir"
   ]
  },
  {
   "cell_type": "code",
   "execution_count": 5,
   "id": "a964c990",
   "metadata": {},
   "outputs": [
    {
     "name": "stdout",
     "output_type": "stream",
     "text": [
      "Loading EVE data from /Users/andrewrobbertz/__SOC_CODE__/_data_/SDO/experiments/irradiance_30mn_14ptot.npy\n"
     ]
    }
   ],
   "source": [
    "EVE_path = \"%s/irradiance_30mn_14ptot.npy\" % data_root\n",
    "print(\"Loading EVE data from %s\" % EVE_path)"
   ]
  },
  {
   "cell_type": "code",
   "execution_count": 6,
   "id": "5cd042b8",
   "metadata": {},
   "outputs": [
    {
     "name": "stdout",
     "output_type": "stream",
     "text": [
      "test 0/655\n",
      "test 100/655\n",
      "test 200/655\n",
      "test 300/655\n",
      "test 400/655\n",
      "test 500/655\n",
      "test 600/655\n",
      "train 0/4580\n",
      "train 100/4580\n",
      "train 200/4580\n",
      "train 300/4580\n",
      "train 400/4580\n",
      "train 500/4580\n",
      "train 600/4580\n",
      "train 700/4580\n",
      "train 800/4580\n",
      "train 900/4580\n",
      "train 1000/4580\n",
      "train 1100/4580\n",
      "train 1200/4580\n",
      "train 1300/4580\n",
      "train 1400/4580\n",
      "train 1500/4580\n",
      "train 1600/4580\n",
      "train 1700/4580\n",
      "train 1800/4580\n",
      "train 1900/4580\n",
      "train 2000/4580\n",
      "train 2100/4580\n",
      "train 2200/4580\n",
      "train 2300/4580\n",
      "train 2400/4580\n",
      "train 2500/4580\n",
      "train 2600/4580\n",
      "train 2700/4580\n",
      "train 2800/4580\n",
      "train 2900/4580\n",
      "train 3000/4580\n",
      "train 3100/4580\n",
      "train 3200/4580\n",
      "train 3300/4580\n",
      "train 3400/4580\n",
      "train 3500/4580\n",
      "train 3600/4580\n",
      "train 3700/4580\n",
      "train 3800/4580\n",
      "train 3900/4580\n",
      "train 4000/4580\n",
      "train 4100/4580\n",
      "train 4200/4580\n",
      "train 4300/4580\n",
      "train 4400/4580\n",
      "train 4500/4580\n",
      "val 0/1308\n",
      "val 100/1308\n",
      "val 200/1308\n",
      "val 300/1308\n",
      "val 400/1308\n",
      "val 500/1308\n",
      "val 600/1308\n",
      "val 700/1308\n",
      "val 800/1308\n",
      "val 900/1308\n",
      "val 1000/1308\n",
      "val 1100/1308\n",
      "val 1200/1308\n",
      "val 1300/1308\n"
     ]
    }
   ],
   "source": [
    "# get the data\n",
    "XTe, ___, ______ = getXy(EVE_path, f\"{data_root}/\", \"test\")\n",
    "XTr, yTr, maskTr = getXy(EVE_path, f\"{data_root}/\", \"train\")\n",
    "XVa, yVa, maskVa = getXy(EVE_path, f\"{data_root}/\", \"val\")"
   ]
  },
  {
   "cell_type": "code",
   "execution_count": 7,
   "id": "f60a28ec",
   "metadata": {},
   "outputs": [],
   "source": [
    "np.savez_compressed(\"%s/mean_std_feats.npz\" % data_root, XTr=XTr, XVa=XVa, XTe=XTe)"
   ]
  },
  {
   "cell_type": "code",
   "execution_count": 8,
   "id": "e132896f",
   "metadata": {},
   "outputs": [],
   "source": [
    "mu, sig = getNormalize(XTr)\n",
    "\n",
    "XTr = addOne((XTr - mu) / sig)\n",
    "XVa = addOne((XVa - mu) / sig)\n",
    "XTe = addOne((XTe - mu) / sig)"
   ]
  },
  {
   "cell_type": "code",
   "execution_count": 9,
   "id": "3c0bb091",
   "metadata": {},
   "outputs": [
    {
     "name": "stdout",
     "output_type": "stream",
     "text": [
      "CV'ing huber epsilon, regularization\n",
      "a = 10e-5, eps = 1.000000 => 0.063972\n",
      "a = 10e-4, eps = 1.000000 => 0.063972\n",
      "a = 10e-3, eps = 1.000000 => 0.063998\n",
      "a = 10e-2, eps = 1.000000 => 0.067391\n",
      "a = 10e-1, eps = 1.000000 => 0.144655\n",
      "a = 10e0, eps = 1.000000 => 0.864759\n",
      "a = 10e-5, eps = 0.500000 => 0.071665\n"
     ]
    },
    {
     "name": "stderr",
     "output_type": "stream",
     "text": [
      "/Users/andrewrobbertz/__SOC_CODE__/ROSES_ML/virtual-eve/canonical_code/setup_residual_totirr.py:105: RuntimeWarning: divide by zero encountered in divide\n",
      "  resid = resid / np.abs(y)\n",
      "/Users/andrewrobbertz/__SOC_CODE__/ROSES_ML/virtual-eve/canonical_code/setup_residual_totirr.py:105: RuntimeWarning: divide by zero encountered in divide\n",
      "  resid = resid / np.abs(y)\n",
      "/Users/andrewrobbertz/__SOC_CODE__/ROSES_ML/virtual-eve/canonical_code/setup_residual_totirr.py:105: RuntimeWarning: divide by zero encountered in divide\n",
      "  resid = resid / np.abs(y)\n",
      "/Users/andrewrobbertz/__SOC_CODE__/ROSES_ML/virtual-eve/canonical_code/setup_residual_totirr.py:105: RuntimeWarning: divide by zero encountered in divide\n",
      "  resid = resid / np.abs(y)\n",
      "/Users/andrewrobbertz/__SOC_CODE__/ROSES_ML/virtual-eve/canonical_code/setup_residual_totirr.py:105: RuntimeWarning: divide by zero encountered in divide\n",
      "  resid = resid / np.abs(y)\n",
      "/Users/andrewrobbertz/__SOC_CODE__/ROSES_ML/virtual-eve/canonical_code/setup_residual_totirr.py:105: RuntimeWarning: divide by zero encountered in divide\n",
      "  resid = resid / np.abs(y)\n",
      "/Users/andrewrobbertz/__SOC_CODE__/ROSES_ML/virtual-eve/canonical_code/setup_residual_totirr.py:105: RuntimeWarning: divide by zero encountered in divide\n",
      "  resid = resid / np.abs(y)\n",
      "/Users/andrewrobbertz/__SOC_CODE__/ROSES_ML/virtual-eve/canonical_code/setup_residual_totirr.py:105: RuntimeWarning: divide by zero encountered in divide\n",
      "  resid = resid / np.abs(y)\n",
      "/Users/andrewrobbertz/__SOC_CODE__/ROSES_ML/virtual-eve/canonical_code/setup_residual_totirr.py:105: RuntimeWarning: divide by zero encountered in divide\n",
      "  resid = resid / np.abs(y)\n"
     ]
    },
    {
     "name": "stdout",
     "output_type": "stream",
     "text": [
      "a = 10e-4, eps = 0.500000 => 0.071670\n",
      "a = 10e-3, eps = 0.500000 => 0.071750\n",
      "a = 10e-2, eps = 0.500000 => 0.075035\n",
      "a = 10e-1, eps = 0.500000 => 0.512213\n",
      "a = 10e0, eps = 0.500000 => 0.932065\n",
      "a = 10e-5, eps = 0.333333 => 0.094062\n",
      "a = 10e-4, eps = 0.333333 => 0.094711\n",
      "a = 10e-3, eps = 0.333333 => 0.101543\n",
      "a = 10e-2, eps = 0.333333 => 0.185633\n"
     ]
    },
    {
     "name": "stderr",
     "output_type": "stream",
     "text": [
      "/Users/andrewrobbertz/__SOC_CODE__/ROSES_ML/virtual-eve/canonical_code/setup_residual_totirr.py:105: RuntimeWarning: divide by zero encountered in divide\n",
      "  resid = resid / np.abs(y)\n",
      "/Users/andrewrobbertz/__SOC_CODE__/ROSES_ML/virtual-eve/canonical_code/setup_residual_totirr.py:105: RuntimeWarning: divide by zero encountered in divide\n",
      "  resid = resid / np.abs(y)\n",
      "/Users/andrewrobbertz/__SOC_CODE__/ROSES_ML/virtual-eve/canonical_code/setup_residual_totirr.py:105: RuntimeWarning: divide by zero encountered in divide\n",
      "  resid = resid / np.abs(y)\n",
      "/Users/andrewrobbertz/__SOC_CODE__/ROSES_ML/virtual-eve/canonical_code/setup_residual_totirr.py:105: RuntimeWarning: divide by zero encountered in divide\n",
      "  resid = resid / np.abs(y)\n",
      "/Users/andrewrobbertz/__SOC_CODE__/ROSES_ML/virtual-eve/canonical_code/setup_residual_totirr.py:105: RuntimeWarning: divide by zero encountered in divide\n",
      "  resid = resid / np.abs(y)\n",
      "/Users/andrewrobbertz/__SOC_CODE__/ROSES_ML/virtual-eve/canonical_code/setup_residual_totirr.py:105: RuntimeWarning: divide by zero encountered in divide\n",
      "  resid = resid / np.abs(y)\n",
      "/Users/andrewrobbertz/__SOC_CODE__/ROSES_ML/virtual-eve/canonical_code/setup_residual_totirr.py:105: RuntimeWarning: divide by zero encountered in divide\n",
      "  resid = resid / np.abs(y)\n",
      "/Users/andrewrobbertz/__SOC_CODE__/ROSES_ML/virtual-eve/canonical_code/setup_residual_totirr.py:105: RuntimeWarning: divide by zero encountered in divide\n",
      "  resid = resid / np.abs(y)\n",
      "/Users/andrewrobbertz/__SOC_CODE__/ROSES_ML/virtual-eve/canonical_code/setup_residual_totirr.py:105: RuntimeWarning: divide by zero encountered in divide\n",
      "  resid = resid / np.abs(y)\n"
     ]
    },
    {
     "name": "stdout",
     "output_type": "stream",
     "text": [
      "a = 10e-1, eps = 0.333333 => 0.655588\n",
      "a = 10e0, eps = 0.333333 => 0.954615\n",
      "a = 10e-5, eps = 0.250000 => 0.288858\n",
      "a = 10e-4, eps = 0.250000 => 0.289696\n",
      "a = 10e-3, eps = 0.250000 => 0.297992\n",
      "a = 10e-2, eps = 0.250000 => 0.373365\n",
      "a = 10e-1, eps = 0.250000 => 0.727341\n",
      "a = 10e0, eps = 0.250000 => 0.965936\n",
      "a = 10e-5, eps = 0.200000 => 0.418609\n"
     ]
    },
    {
     "name": "stderr",
     "output_type": "stream",
     "text": [
      "/Users/andrewrobbertz/__SOC_CODE__/ROSES_ML/virtual-eve/canonical_code/setup_residual_totirr.py:105: RuntimeWarning: divide by zero encountered in divide\n",
      "  resid = resid / np.abs(y)\n",
      "/Users/andrewrobbertz/__SOC_CODE__/ROSES_ML/virtual-eve/canonical_code/setup_residual_totirr.py:105: RuntimeWarning: divide by zero encountered in divide\n",
      "  resid = resid / np.abs(y)\n",
      "/Users/andrewrobbertz/__SOC_CODE__/ROSES_ML/virtual-eve/canonical_code/setup_residual_totirr.py:105: RuntimeWarning: divide by zero encountered in divide\n",
      "  resid = resid / np.abs(y)\n",
      "/Users/andrewrobbertz/__SOC_CODE__/ROSES_ML/virtual-eve/canonical_code/setup_residual_totirr.py:105: RuntimeWarning: divide by zero encountered in divide\n",
      "  resid = resid / np.abs(y)\n",
      "/Users/andrewrobbertz/__SOC_CODE__/ROSES_ML/virtual-eve/canonical_code/setup_residual_totirr.py:105: RuntimeWarning: divide by zero encountered in divide\n",
      "  resid = resid / np.abs(y)\n",
      "/Users/andrewrobbertz/__SOC_CODE__/ROSES_ML/virtual-eve/canonical_code/setup_residual_totirr.py:105: RuntimeWarning: divide by zero encountered in divide\n",
      "  resid = resid / np.abs(y)\n",
      "/Users/andrewrobbertz/__SOC_CODE__/ROSES_ML/virtual-eve/canonical_code/setup_residual_totirr.py:105: RuntimeWarning: divide by zero encountered in divide\n",
      "  resid = resid / np.abs(y)\n",
      "/Users/andrewrobbertz/__SOC_CODE__/ROSES_ML/virtual-eve/canonical_code/setup_residual_totirr.py:105: RuntimeWarning: divide by zero encountered in divide\n",
      "  resid = resid / np.abs(y)\n",
      "/Users/andrewrobbertz/__SOC_CODE__/ROSES_ML/virtual-eve/canonical_code/setup_residual_totirr.py:105: RuntimeWarning: divide by zero encountered in divide\n",
      "  resid = resid / np.abs(y)\n"
     ]
    },
    {
     "name": "stdout",
     "output_type": "stream",
     "text": [
      "a = 10e-4, eps = 0.200000 => 0.419275\n",
      "a = 10e-3, eps = 0.200000 => 0.425873\n",
      "a = 10e-2, eps = 0.200000 => 0.486091\n",
      "a = 10e-1, eps = 0.200000 => 0.771690\n",
      "a = 10e0, eps = 0.200000 => 0.972749\n",
      "a = 10e-5, eps = 0.166667 => 0.504906\n",
      "a = 10e-4, eps = 0.166667 => 0.505460\n",
      "a = 10e-3, eps = 0.166667 => 0.510955\n",
      "a = 10e-2, eps = 0.166667 => 0.561201\n"
     ]
    },
    {
     "name": "stderr",
     "output_type": "stream",
     "text": [
      "/Users/andrewrobbertz/__SOC_CODE__/ROSES_ML/virtual-eve/canonical_code/setup_residual_totirr.py:105: RuntimeWarning: divide by zero encountered in divide\n",
      "  resid = resid / np.abs(y)\n",
      "/Users/andrewrobbertz/__SOC_CODE__/ROSES_ML/virtual-eve/canonical_code/setup_residual_totirr.py:105: RuntimeWarning: divide by zero encountered in divide\n",
      "  resid = resid / np.abs(y)\n",
      "/Users/andrewrobbertz/__SOC_CODE__/ROSES_ML/virtual-eve/canonical_code/setup_residual_totirr.py:105: RuntimeWarning: divide by zero encountered in divide\n",
      "  resid = resid / np.abs(y)\n",
      "/Users/andrewrobbertz/__SOC_CODE__/ROSES_ML/virtual-eve/canonical_code/setup_residual_totirr.py:105: RuntimeWarning: divide by zero encountered in divide\n",
      "  resid = resid / np.abs(y)\n",
      "/Users/andrewrobbertz/__SOC_CODE__/ROSES_ML/virtual-eve/canonical_code/setup_residual_totirr.py:105: RuntimeWarning: divide by zero encountered in divide\n",
      "  resid = resid / np.abs(y)\n",
      "/Users/andrewrobbertz/__SOC_CODE__/ROSES_ML/virtual-eve/canonical_code/setup_residual_totirr.py:105: RuntimeWarning: divide by zero encountered in divide\n",
      "  resid = resid / np.abs(y)\n",
      "/Users/andrewrobbertz/__SOC_CODE__/ROSES_ML/virtual-eve/canonical_code/setup_residual_totirr.py:105: RuntimeWarning: divide by zero encountered in divide\n",
      "  resid = resid / np.abs(y)\n",
      "/Users/andrewrobbertz/__SOC_CODE__/ROSES_ML/virtual-eve/canonical_code/setup_residual_totirr.py:105: RuntimeWarning: divide by zero encountered in divide\n",
      "  resid = resid / np.abs(y)\n",
      "/Users/andrewrobbertz/__SOC_CODE__/ROSES_ML/virtual-eve/canonical_code/setup_residual_totirr.py:105: RuntimeWarning: divide by zero encountered in divide\n",
      "  resid = resid / np.abs(y)\n"
     ]
    },
    {
     "name": "stdout",
     "output_type": "stream",
     "text": [
      "a = 10e-1, eps = 0.166667 => 0.809930\n",
      "a = 10e0, eps = 0.166667 => 0.977291\n",
      "a = 10e-5, eps = 0.142857 => 0.566455\n",
      "a = 10e-4, eps = 0.142857 => 0.566932\n",
      "a = 10e-3, eps = 0.142857 => 0.571660\n",
      "a = 10e-2, eps = 0.142857 => 0.614852\n",
      "a = 10e-1, eps = 0.142857 => 0.837069\n",
      "a = 10e0, eps = 0.142857 => 0.980535\n",
      "a = 10e-5, eps = 0.125000 => 0.612619\n"
     ]
    },
    {
     "name": "stderr",
     "output_type": "stream",
     "text": [
      "/Users/andrewrobbertz/__SOC_CODE__/ROSES_ML/virtual-eve/canonical_code/setup_residual_totirr.py:105: RuntimeWarning: divide by zero encountered in divide\n",
      "  resid = resid / np.abs(y)\n",
      "/Users/andrewrobbertz/__SOC_CODE__/ROSES_ML/virtual-eve/canonical_code/setup_residual_totirr.py:105: RuntimeWarning: divide by zero encountered in divide\n",
      "  resid = resid / np.abs(y)\n",
      "/Users/andrewrobbertz/__SOC_CODE__/ROSES_ML/virtual-eve/canonical_code/setup_residual_totirr.py:105: RuntimeWarning: divide by zero encountered in divide\n",
      "  resid = resid / np.abs(y)\n",
      "/Users/andrewrobbertz/__SOC_CODE__/ROSES_ML/virtual-eve/canonical_code/setup_residual_totirr.py:105: RuntimeWarning: divide by zero encountered in divide\n",
      "  resid = resid / np.abs(y)\n",
      "/Users/andrewrobbertz/__SOC_CODE__/ROSES_ML/virtual-eve/canonical_code/setup_residual_totirr.py:105: RuntimeWarning: divide by zero encountered in divide\n",
      "  resid = resid / np.abs(y)\n",
      "/Users/andrewrobbertz/__SOC_CODE__/ROSES_ML/virtual-eve/canonical_code/setup_residual_totirr.py:105: RuntimeWarning: divide by zero encountered in divide\n",
      "  resid = resid / np.abs(y)\n",
      "/Users/andrewrobbertz/__SOC_CODE__/ROSES_ML/virtual-eve/canonical_code/setup_residual_totirr.py:105: RuntimeWarning: divide by zero encountered in divide\n",
      "  resid = resid / np.abs(y)\n",
      "/Users/andrewrobbertz/__SOC_CODE__/ROSES_ML/virtual-eve/canonical_code/setup_residual_totirr.py:105: RuntimeWarning: divide by zero encountered in divide\n",
      "  resid = resid / np.abs(y)\n",
      "/Users/andrewrobbertz/__SOC_CODE__/ROSES_ML/virtual-eve/canonical_code/setup_residual_totirr.py:105: RuntimeWarning: divide by zero encountered in divide\n",
      "  resid = resid / np.abs(y)\n"
     ]
    },
    {
     "name": "stdout",
     "output_type": "stream",
     "text": [
      "a = 10e-4, eps = 0.125000 => 0.613037\n",
      "a = 10e-3, eps = 0.125000 => 0.617179\n",
      "a = 10e-2, eps = 0.125000 => 0.655003\n",
      "a = 10e-1, eps = 0.125000 => 0.857399\n",
      "a = 10e0, eps = 0.125000 => 0.982968\n",
      "a = 10e-5, eps = 0.111111 => 0.648438\n",
      "a = 10e-4, eps = 0.111111 => 0.648810\n",
      "a = 10e-3, eps = 0.111111 => 0.652497\n",
      "a = 10e-2, eps = 0.111111 => 0.686178\n"
     ]
    },
    {
     "name": "stderr",
     "output_type": "stream",
     "text": [
      "/Users/andrewrobbertz/__SOC_CODE__/ROSES_ML/virtual-eve/canonical_code/setup_residual_totirr.py:105: RuntimeWarning: divide by zero encountered in divide\n",
      "  resid = resid / np.abs(y)\n",
      "/Users/andrewrobbertz/__SOC_CODE__/ROSES_ML/virtual-eve/canonical_code/setup_residual_totirr.py:105: RuntimeWarning: divide by zero encountered in divide\n",
      "  resid = resid / np.abs(y)\n",
      "/Users/andrewrobbertz/__SOC_CODE__/ROSES_ML/virtual-eve/canonical_code/setup_residual_totirr.py:105: RuntimeWarning: divide by zero encountered in divide\n",
      "  resid = resid / np.abs(y)\n",
      "/Users/andrewrobbertz/__SOC_CODE__/ROSES_ML/virtual-eve/canonical_code/setup_residual_totirr.py:105: RuntimeWarning: divide by zero encountered in divide\n",
      "  resid = resid / np.abs(y)\n",
      "/Users/andrewrobbertz/__SOC_CODE__/ROSES_ML/virtual-eve/canonical_code/setup_residual_totirr.py:105: RuntimeWarning: divide by zero encountered in divide\n",
      "  resid = resid / np.abs(y)\n",
      "/Users/andrewrobbertz/__SOC_CODE__/ROSES_ML/virtual-eve/canonical_code/setup_residual_totirr.py:105: RuntimeWarning: divide by zero encountered in divide\n",
      "  resid = resid / np.abs(y)\n",
      "/Users/andrewrobbertz/__SOC_CODE__/ROSES_ML/virtual-eve/canonical_code/setup_residual_totirr.py:105: RuntimeWarning: divide by zero encountered in divide\n",
      "  resid = resid / np.abs(y)\n",
      "/Users/andrewrobbertz/__SOC_CODE__/ROSES_ML/virtual-eve/canonical_code/setup_residual_totirr.py:105: RuntimeWarning: divide by zero encountered in divide\n",
      "  resid = resid / np.abs(y)\n",
      "/Users/andrewrobbertz/__SOC_CODE__/ROSES_ML/virtual-eve/canonical_code/setup_residual_totirr.py:105: RuntimeWarning: divide by zero encountered in divide\n",
      "  resid = resid / np.abs(y)\n"
     ]
    },
    {
     "name": "stdout",
     "output_type": "stream",
     "text": [
      "a = 10e-1, eps = 0.111111 => 0.873212\n",
      "a = 10e0, eps = 0.111111 => 0.984860\n",
      "Best a = 10e-4, eps = 1.000000\n"
     ]
    }
   ],
   "source": [
    "model = cvSGDH(XTr, yTr, XVa, yVa, maskVa)"
   ]
  },
  {
   "cell_type": "code",
   "execution_count": 10,
   "id": "9b403dff",
   "metadata": {},
   "outputs": [],
   "source": [
    "# Predictions = X*W'\n",
    "yTrp = np.dot(XTr, model.T)\n",
    "yVap = np.dot(XVa, model.T)\n",
    "yTep = np.dot(XTe, model.T)"
   ]
  },
  {
   "cell_type": "code",
   "execution_count": 11,
   "id": "f17c0f65",
   "metadata": {},
   "outputs": [],
   "source": [
    "# these are the new targets\n",
    "diffTr = yTr - yTrp\n",
    "diffTr[maskTr] = 0\n",
    "diffVa = yVa - yVap\n",
    "diffVa[maskVa] = 0"
   ]
  },
  {
   "cell_type": "code",
   "execution_count": 12,
   "id": "a7cd1f22",
   "metadata": {},
   "outputs": [
    {
     "data": {
      "image/png": "[encoded data removed]",
      "text/plain": [
       "<Figure size 1000x500 with 1 Axes>"
      ]
     },
     "metadata": {},
     "output_type": "display_data"
    }
   ],
   "source": [
    "train_error = np.mean(diffTr, axis=1)\n",
    "val_error = np.mean(diffVa, axis=1)\n",
    "\n",
    "plt.figure(figsize=(10, 5))\n",
    "plt.plot(train_error, label=\"Train Error\")\n",
    "plt.plot(val_error, label=\"Validation Error\")\n",
    "plt.xlabel(\"Sample Index\")\n",
    "plt.ylabel(\"Mean Absolute Error\")\n",
    "plt.title(\"Training and Validation Error\")\n",
    "plt.legend()\n",
    "plt.grid()\n",
    "plt.show()"
   ]
  },
  {
   "cell_type": "code",
   "execution_count": 13,
   "id": "9539a980",
   "metadata": {},
   "outputs": [
    {
     "name": "stdout",
     "output_type": "stream",
     "text": [
      "Train Error: Mean = 0.0000010, Std = 0.0000016\n",
      "Validation Error: Mean = 0.0000010, Std = 0.0000018\n"
     ]
    }
   ],
   "source": [
    "print(\"Train Error: Mean = %.7f, Std = %.7f\" % (train_error.mean(), train_error.std()))\n",
    "print(\"Validation Error: Mean = %.7f, Std = %.7f\" % (val_error.mean(), val_error.std()))"
   ]
  },
  {
   "cell_type": "code",
   "execution_count": 14,
   "id": "751708f3",
   "metadata": {},
   "outputs": [],
   "source": [
    "# update EVE\n",
    "EVE = np.load(EVE_path)\n",
    "updates = [(\"train\", diffTr), (\"val\", diffVa)]\n",
    "for phaseName, newVals in updates:\n",
    "    yind, xind = getEVEInd(f\"{data_root}/\", phaseName)\n",
    "    for yii, yi in enumerate(yind):\n",
    "        EVE[yi, xind] = newVals[yii, :]\n",
    "\n",
    "# new statistics\n",
    "residualMean = np.mean(diffTr, axis=0)\n",
    "residualStd = np.std(diffTr, axis=0)\n",
    "\n",
    "np.save(\"%s/eve_residual_mean_14ptot.npy\" % data_root, residualMean)\n",
    "np.save(\"%s/eve_residual_std_14ptot.npy\" % data_root, residualStd)\n",
    "\n",
    "# rescale targets\n",
    "EVE *= 100\n",
    "\n",
    "# Save the new target and the model\n",
    "np.save(\"%s/irradiance_30mn_residual_14ptot.npy\" % data_root, EVE)\n",
    "np.savez_compressed(\n",
    "    \"%s/residual_initial_model.npz\" % data_root, model=model, mu=mu, sig=sig\n",
    ")"
   ]
  },
  {
   "cell_type": "markdown",
   "id": "8c7ef9b0",
   "metadata": {},
   "source": [
    "## Train Convolutional Model"
   ]
  },
  {
   "cell_type": "code",
   "execution_count": 15,
   "id": "47b6a878",
   "metadata": {},
   "outputs": [
    {
     "data": {
      "text/plain": [
       "{'shuffle': True,\n",
       " 'lr_start': 0.1,\n",
       " 'lr_step_size': 8,\n",
       " 'lr_gamma': 0.1,\n",
       " 'crop': True,\n",
       " 'seed': 1,\n",
       " 'num_epochs': 24,\n",
       " 'in_resolution': 224,\n",
       " 'eve_sigmoid': False,\n",
       " 'zscore': False,\n",
       " 'weight_decay': 1e-09,\n",
       " 'async_loading': True,\n",
       " 'resume_from': 'checkpoint.pth.tar',\n",
       " 'num_eve_channels': 14,\n",
       " 'to_train': True,\n",
       " 'dataloader_workers': 4,\n",
       " 'aia_channels': 9,\n",
       " 'resume': True,\n",
       " 'dropout': True,\n",
       " 'pin_memory': True,\n",
       " 'input_shape': {'channels': 9, 'width': 224, 'height': 224},\n",
       " 'batch_size': 32,\n",
       " 'to_test': False,\n",
       " 'arch': 'anet_3_bn',\n",
       " 'experiment_dir_root': '/data/NASAFDL2018/SpaceWeather/Team1-Meng/bakeoff1_results',\n",
       " 'loss': 'L1',\n",
       " 'test_every': 20,\n",
       " 'flip': True,\n",
       " 'data_csv_dir': '/scratch/AIA_2011_224',\n",
       " 'cuda': True,\n",
       " 'eve_transform': 'sqrt'}"
      ]
     },
     "execution_count": 15,
     "metadata": {},
     "output_type": "execute_result"
    }
   ],
   "source": [
    "config_dir = Path.cwd().parent / \"config\"\n",
    "assert config_dir.exists(), f\"Config directory {config_dir} does not exist.\"\n",
    "\n",
    "# Get the first JSON config file in the directory\n",
    "config_file = list(config_dir.glob(\"*.json\"))[0]\n",
    "\n",
    "cfg = {}\n",
    "with open(config_file, \"r\") as f:\n",
    "    cfg = json.load(f)\n",
    "\n",
    "cfg"
   ]
  },
  {
   "cell_type": "code",
   "execution_count": null,
   "id": "32c4bb16",
   "metadata": {},
   "outputs": [],
   "source": [
    "target_path = (\n",
    "    data_root / f\"results_{config_file.stem}_{datetime.now().strftime('%Y%m%d_%H%M%S')}\"\n",
    ")\n",
    "target_path.mkdir(parents=True, exist_ok=True)"
   ]
  },
  {
   "cell_type": "code",
   "execution_count": 17,
   "id": "6555e26c",
   "metadata": {},
   "outputs": [],
   "source": [
    "model_file = target_path / f\"{config_file.stem}_model.pt\"\n",
    "log_file = target_path / f\"{config_file.stem}_log.txt\""
   ]
  },
  {
   "cell_type": "code",
   "execution_count": 18,
   "id": "1ec1daa8",
   "metadata": {},
   "outputs": [
    {
     "name": "stdout",
     "output_type": "stream",
     "text": [
      "anet_3_bn True\n"
     ]
    }
   ],
   "source": [
    "print(cfg[\"arch\"], cfg[\"dropout\"])"
   ]
  },
  {
   "cell_type": "code",
   "execution_count": 19,
   "id": "36d462ab",
   "metadata": {},
   "outputs": [],
   "source": [
    "_, layer_count, bn = cfg[\"arch\"].split(\"_\")\n",
    "sw_net = alt_models.ChoppedAlexnetBN(\n",
    "    numLayers=layer_count, outSize=15, dropout=cfg[\"dropout\"]\n",
    ")"
   ]
  },
  {
   "cell_type": "code",
   "execution_count": 20,
   "id": "f9aa1e11",
   "metadata": {},
   "outputs": [
    {
     "data": {
      "text/plain": [
       "alt_models.ChoppedAlexnetBN"
      ]
     },
     "execution_count": 20,
     "metadata": {},
     "output_type": "execute_result"
    }
   ],
   "source": [
    "type(sw_net)"
   ]
  },
  {
   "cell_type": "code",
   "execution_count": 21,
   "id": "a500efb2",
   "metadata": {},
   "outputs": [
    {
     "data": {
      "text/plain": [
       "True"
      ]
     },
     "execution_count": 21,
     "metadata": {},
     "output_type": "execute_result"
    }
   ],
   "source": [
    "import torch.nn as nn\n",
    "\n",
    "isinstance(sw_net, nn.Module)"
   ]
  },
  {
   "cell_type": "code",
   "execution_count": 22,
   "id": "bfb9c93c",
   "metadata": {},
   "outputs": [
    {
     "name": "stdout",
     "output_type": "stream",
     "text": [
      "Using device: mps\n"
     ]
    }
   ],
   "source": [
    "# Check if MPS is available\n",
    "device = torch.device(\"mps\" if torch.backends.mps.is_available() else \"cpu\")\n",
    "print(f\"Using device: {device}\")\n",
    "\n",
    "# Move model to the device\n",
    "sw_net = sw_net.to(device)\n",
    "\n",
    "# For future tensor operations, remember to create or move tensors to this device\n",
    "# Example: x = torch.randn(3, 3, device=device)"
   ]
  },
  {
   "cell_type": "code",
   "execution_count": 23,
   "id": "d7d412e6",
   "metadata": {},
   "outputs": [
    {
     "name": "stdout",
     "output_type": "stream",
     "text": [
      "L1\n"
     ]
    }
   ],
   "source": [
    "print(cfg[\"loss\"])\n",
    "criterion = None\n",
    "if cfg[\"loss\"] == \"L2\":\n",
    "    criterion = nn.MSELoss()\n",
    "elif cfg[\"loss\"] == \"L1\":\n",
    "    criterion = nn.SmoothL1Loss()"
   ]
  },
  {
   "cell_type": "code",
   "execution_count": 24,
   "id": "b33a14d6",
   "metadata": {},
   "outputs": [],
   "source": [
    "# Load the EVE Data\n",
    "EVE_path = data_root / \"irradiance_30mn_residual_14ptot.npy\"\n",
    "assert EVE_path.exists(), f\"EVE data file {EVE_path} does not exist.\""
   ]
  },
  {
   "cell_type": "code",
   "execution_count": 25,
   "id": "b94253a5",
   "metadata": {},
   "outputs": [
    {
     "name": "stdout",
     "output_type": "stream",
     "text": [
      "Using crop: True\n",
      "Using flip: True\n",
      "Using zscore: False\n"
     ]
    }
   ],
   "source": [
    "crop = cfg[\"crop\"]\n",
    "flip = cfg[\"flip\"]\n",
    "zscore = cfg[\"zscore\"]\n",
    "print(f\"Using crop: {crop}\")\n",
    "print(f\"Using flip: {flip}\")\n",
    "print(f\"Using zscore: {zscore}\")"
   ]
  },
  {
   "cell_type": "code",
   "execution_count": 26,
   "id": "d1c743a3",
   "metadata": {},
   "outputs": [],
   "source": [
    "if zscore:  # we apply whatever scaling if zscore is on\n",
    "    aia_mean = np.load(data_root / \"aia_sqrt_mean.npy\")\n",
    "    aia_std = np.load(data_root / \"aia_sqrt_std.npy\")\n",
    "    aia_transform = transforms.Compose(\n",
    "        [transforms.Normalize(tuple(aia_mean), tuple(aia_std))]\n",
    "    )\n",
    "else:  # we don't sqrt and just divide by the means. just need to trick the transform\n",
    "    aia_mean = np.load(data_root / \"aia_mean.npy\")\n",
    "    aia_std = np.load(data_root / \"aia_std.npy\")\n",
    "    aia_transform = transforms.Compose(\n",
    "        [transforms.Normalize(tuple(aia_mean), tuple(aia_std))]\n",
    "    )"
   ]
  },
  {
   "cell_type": "code",
   "execution_count": 27,
   "id": "7862038d",
   "metadata": {},
   "outputs": [
    {
     "name": "stdout",
     "output_type": "stream",
     "text": [
      "Loaded train Dataset with 4580 examples\n",
      "Loaded val Dataset with 1308 examples\n"
     ]
    }
   ],
   "source": [
    "batch_size = 64\n",
    "resolution = 256\n",
    "crop_res = 240\n",
    "\n",
    "# Dataset & Dataloader for train and validation\n",
    "sw_datasets = {\n",
    "    x: SW_Dataset(\n",
    "        EVE_path=EVE_path,\n",
    "        AIA_root=str(data_root / \"AIA\") + \"/\",\n",
    "        index_file=str(data_root) + \"/\",\n",
    "        resolution=resolution,\n",
    "        EVE_scale=cfg[\"eve_transform\"],\n",
    "        EVE_sigmoid=cfg[\"eve_sigmoid\"],\n",
    "        split=x,\n",
    "        AIA_transform=aia_transform,\n",
    "        flip=flip,\n",
    "        crop=crop,\n",
    "        crop_res=crop_res,\n",
    "        zscore=zscore,\n",
    "        self_mean_normalize=True,\n",
    "    )\n",
    "    for x in [\"train\", \"val\"]\n",
    "}"
   ]
  },
  {
   "cell_type": "code",
   "execution_count": 28,
   "id": "9913ae05",
   "metadata": {},
   "outputs": [
    {
     "name": "stdout",
     "output_type": "stream",
     "text": [
      "Dataset sizes: {'train': 4580, 'val': 1308}\n"
     ]
    }
   ],
   "source": [
    "sw_dataloaders = {\n",
    "    x: torch.utils.data.DataLoader(\n",
    "        sw_datasets[x], batch_size=batch_size, shuffle=True, num_workers=8\n",
    "    )\n",
    "    for x in [\"train\", \"val\"]\n",
    "}\n",
    "\n",
    "dataset_sizes = {x: len(sw_datasets[x]) for x in [\"train\", \"val\"]}\n",
    "print(f\"Dataset sizes: {dataset_sizes}\")"
   ]
  },
  {
   "cell_type": "code",
   "execution_count": 29,
   "id": "9bd82de3",
   "metadata": {},
   "outputs": [
    {
     "name": "stdout",
     "output_type": "stream",
     "text": [
      "Example X shape: torch.Size([9, 240, 240])\n",
      "Example Y shape: torch.Size([15])\n"
     ]
    }
   ],
   "source": [
    "example_x, example_y = sw_datasets[\"train\"][0]\n",
    "print(f\"Example X shape: {example_x.shape}\")  # Should be (9, 240, 240) for AIA channels\n",
    "print(f\"Example Y shape: {example_y.shape}\")  # Should be (15,) for EVE channels"
   ]
  },
  {
   "cell_type": "code",
   "execution_count": 30,
   "id": "8021d781",
   "metadata": {},
   "outputs": [
    {
     "name": "stdout",
     "output_type": "stream",
     "text": [
      "Initial Learning Rate: 0.1, Step Size: 8, Weight Decay: 1e-09, Number of Epochs: 24\n"
     ]
    }
   ],
   "source": [
    "# Config Training Optimization Parameters\n",
    "initLR, stepSize = cfg[\"lr_start\"], cfg[\"lr_step_size\"]\n",
    "weightDecay = cfg[\"weight_decay\"]\n",
    "n_epochs = stepSize * 3\n",
    "print(\n",
    "    f\"Initial Learning Rate: {initLR}, Step Size: {stepSize}, Weight Decay: {weightDecay}, Number of Epochs: {n_epochs}\"\n",
    ")"
   ]
  },
  {
   "cell_type": "code",
   "execution_count": 31,
   "id": "6227df6b",
   "metadata": {},
   "outputs": [],
   "source": [
    "# Set up Optimizer and Scheduler\n",
    "optimizer = optim.SGD(\n",
    "    sw_net.parameters(),\n",
    "    lr=initLR,\n",
    "    momentum=0.9,\n",
    "    nesterov=True,\n",
    "    weight_decay=weightDecay,\n",
    ")\n",
    "exp_lr_scheduler = optim.lr_scheduler.StepLR(optimizer, step_size=stepSize, gamma=0.1)"
   ]
  },
  {
   "cell_type": "code",
   "execution_count": 32,
   "id": "d3b2a57a",
   "metadata": {},
   "outputs": [
    {
     "name": "stdout",
     "output_type": "stream",
     "text": [
      "Epoch 0.000000 / 23.000000\n"
     ]
    },
    {
     "name": "stderr",
     "output_type": "stream",
     "text": [
      "/opt/homebrew/Caskroom/miniforge/base/envs/roses/lib/python3.13/site-packages/torch/optim/lr_scheduler.py:182: UserWarning: Detected call of `lr_scheduler.step()` before `optimizer.step()`. In PyTorch 1.1.0 and later, you should call them in the opposite order: `optimizer.step()` before `lr_scheduler.step()`.  Failure to do this will result in PyTorch skipping the first value of the learning rate schedule. See more details at https://pytorch.org/docs/stable/optim.html#how-to-adjust-learning-rate\n",
      "  warnings.warn(\n"
     ]
    },
    {
     "name": "stdout",
     "output_type": "stream",
     "text": [
      "000000/000072   Mean:  4.47234 P25:  4.47234 Median:  4.47234 P75:  4.47234 Max:  4.47234\n",
      "000020/000072   Mean:  5.48626 P25:  4.47234 Median:  5.43810 P75:  6.20741 Max:  8.74019\n",
      "000040/000072   Mean:  5.57179 P25:  4.78224 Median:  5.60109 P75:  6.24314 Max:  8.74019\n",
      "000060/000072   Mean:  5.67808 P25:  4.90792 Median:  5.81997 P75:  6.24314 Max:  8.92015\n",
      "train loss = 27.846121\n",
      "000000/000021   Mean:  8.96296 P25:  8.96296 Median:  8.96296 P75:  8.96296 Max:  8.96296\n",
      "000020/000021   Mean:  8.84006 P25:  8.21336 Median:  8.89629 P75:  9.49923 Max: 11.19243\n",
      "val loss = 8.857313\n",
      "Epoch 1.000000 / 23.000000\n",
      "000000/000072   Mean:  6.30101 P25:  6.30101 Median:  6.30101 P75:  6.30101 Max:  6.30101\n",
      "000020/000072   Mean: 81.12267 P25:  5.21315 Median:  6.01288 P75:  6.50227 Max: 1588.90344\n",
      "000040/000072   Mean: 44.34829 P25:  5.18544 Median:  5.91617 P75:  6.50227 Max: 1588.90344\n",
      "000060/000072   Mean: 31.69126 P25:  5.08655 Median:  5.84041 P75:  6.50227 Max: 1588.90344\n",
      "train loss = 27.813602\n",
      "000000/000021   Mean:  6.57346 P25:  6.57346 Median:  6.57346 P75:  6.57346 Max:  6.57346\n",
      "000020/000021   Mean:  8.83339 P25:  6.91622 Median:  8.97620 P75:  9.53214 Max: 13.10686\n",
      "val loss = 8.858150\n",
      "Epoch 2.000000 / 23.000000\n",
      "000000/000072   Mean:  4.42991 P25:  4.42991 Median:  4.42991 P75:  4.42991 Max:  4.42991\n",
      "000020/000072   Mean: 81.15529 P25:  4.38141 Median:  6.24916 P75:  7.42527 Max: 1585.50916\n",
      "000040/000072   Mean: 44.44464 P25:  4.62992 Median:  6.14640 P75:  6.90820 Max: 1585.50916\n",
      "000060/000072   Mean: 31.72365 P25:  4.78739 Median:  5.83627 P75:  6.84748 Max: 1585.50916\n",
      "train loss = 27.796991\n",
      "000000/000021   Mean:  9.82954 P25:  9.82954 Median:  9.82954 P75:  9.82954 Max:  9.82954\n",
      "000020/000021   Mean:  8.86028 P25:  7.99241 Median:  8.84204 P75:  9.82954 Max: 11.47129\n",
      "val loss = 8.929413\n",
      "Epoch 3.000000 / 23.000000\n",
      "000000/000072   Mean:  3.44061 P25:  3.44061 Median:  3.44061 P75:  3.44061 Max:  3.44061\n",
      "000020/000072   Mean:  5.10140 P25:  4.63481 Median:  5.04698 P75:  5.59357 Max:  7.85921\n",
      "000040/000072   Mean:  5.56727 P25:  4.89703 Median:  5.59357 P75:  6.33721 Max:  7.99084\n",
      "000060/000072   Mean:  5.59453 P25:  4.93219 Median:  5.50608 P75:  6.33721 Max:  8.30589\n",
      "train loss = 27.784590\n",
      "000000/000021   Mean:  8.27946 P25:  8.27946 Median:  8.27946 P75:  8.27946 Max:  8.27946\n",
      "000020/000021   Mean:  9.13017 P25:  8.27760 Median:  8.87476 P75:  9.99615 Max: 13.97616\n",
      "val loss = 9.157152\n",
      "Epoch 4.000000 / 23.000000\n",
      "000000/000072   Mean:  5.70198 P25:  5.70198 Median:  5.70198 P75:  5.70198 Max:  5.70198\n",
      "000020/000072   Mean: 81.31440 P25:  5.38553 Median:  5.76579 P75:  6.86911 Max: 1588.92896\n",
      "000040/000072   Mean: 44.33727 P25:  4.98427 Median:  5.76413 P75:  6.52588 Max: 1588.92896\n",
      "000060/000072   Mean: 31.62724 P25:  4.64984 Median:  5.71368 P75:  6.52588 Max: 1588.92896\n",
      "train loss = 27.776285\n",
      "000000/000021   Mean: 10.21876 P25: 10.21876 Median: 10.21876 P75: 10.21876 Max: 10.21876\n",
      "000020/000021   Mean:  9.06426 P25:  8.02505 Median:  9.40203 P75:  9.69107 Max: 11.80220\n",
      "val loss = 8.988905\n",
      "Epoch 5.000000 / 23.000000\n",
      "000000/000072   Mean:  5.21504 P25:  5.21504 Median:  5.21504 P75:  5.21504 Max:  5.21504\n",
      "000020/000072   Mean: 80.89837 P25:  4.86020 Median:  5.89254 P75:  6.37766 Max: 1587.13562\n",
      "000040/000072   Mean: 44.06297 P25:  4.88732 Median:  5.53157 P75:  6.16242 Max: 1587.13562\n",
      "000060/000072   Mean: 31.58843 P25:  5.05001 Median:  5.52350 P75:  6.36586 Max: 1587.13562\n",
      "train loss = 27.772342\n",
      "000000/000021   Mean:  9.67758 P25:  9.67758 Median:  9.67758 P75:  9.67758 Max:  9.67758\n",
      "000020/000021   Mean:  8.78108 P25:  7.98147 Median:  8.67548 P75:  9.64264 Max: 10.36010\n",
      "val loss = 8.833844\n",
      "Epoch 6.000000 / 23.000000\n",
      "000000/000072   Mean:  5.66217 P25:  5.66217 Median:  5.66217 P75:  5.66217 Max:  5.66217\n",
      "000020/000072   Mean:  5.50593 P25:  4.98378 Median:  5.68862 P75:  5.95825 Max:  7.55688\n",
      "000040/000072   Mean: 44.20765 P25:  4.98378 Median:  5.68862 P75:  6.21822 Max: 1586.43018\n",
      "000060/000072   Mean: 31.51877 P25:  4.98571 Median:  5.66582 P75:  6.21822 Max: 1586.43018\n",
      "train loss = 27.766607\n",
      "000000/000021   Mean:  9.44994 P25:  9.44994 Median:  9.44994 P75:  9.44994 Max:  9.44994\n",
      "000020/000021   Mean:  8.75421 P25:  7.89430 Median:  8.69189 P75:  9.60340 Max: 11.22980\n",
      "val loss = 8.794276\n",
      "Epoch 7.000000 / 23.000000\n",
      "000000/000072   Mean:  8.70370 P25:  8.70370 Median:  8.70370 P75:  8.70370 Max:  8.70370\n",
      "000020/000072   Mean:  6.29035 P25:  5.61968 Median:  6.65821 P75:  6.91899 Max:  8.70370\n",
      "000040/000072   Mean:  5.87225 P25:  4.79409 Median:  6.17220 P75:  6.75585 Max:  8.70370\n",
      "000060/000072   Mean:  5.72989 P25:  4.73435 Median:  5.76591 P75:  6.75585 Max:  8.70370\n",
      "train loss = 27.755674\n",
      "000000/000021   Mean:  7.72328 P25:  7.72328 Median:  7.72328 P75:  7.72328 Max:  7.72328\n",
      "000020/000021   Mean:  8.82502 P25:  7.72328 Median:  8.54026 P75:  9.69414 Max: 12.49791\n",
      "val loss = 8.832853\n",
      "Epoch 8.000000 / 23.000000\n",
      "000000/000072   Mean:  6.88348 P25:  6.88348 Median:  6.88348 P75:  6.88348 Max:  6.88348\n",
      "000020/000072   Mean: 80.90273 P25:  4.86683 Median:  5.53626 P75:  6.58493 Max: 1587.32849\n",
      "000040/000072   Mean: 44.20898 P25:  4.87081 Median:  5.70106 P75:  6.44636 Max: 1587.32849\n",
      "000060/000072   Mean: 31.61044 P25:  5.04303 Median:  5.62460 P75:  6.44300 Max: 1587.32849\n",
      "train loss = 27.750188\n",
      "000000/000021   Mean: 10.11862 P25: 10.11862 Median: 10.11862 P75: 10.11862 Max: 10.11862\n",
      "000020/000021   Mean:  8.67981 P25:  7.77609 Median:  8.97991 P75:  9.62061 Max: 11.84539\n",
      "val loss = 8.781065\n",
      "Epoch 9.000000 / 23.000000\n",
      "000000/000072   Mean:  5.26367 P25:  5.26367 Median:  5.26367 P75:  5.26367 Max:  5.26367\n",
      "000020/000072   Mean:  5.42081 P25:  4.27600 Median:  5.49125 P75:  6.18764 Max:  7.62597\n",
      "000040/000072   Mean:  5.56641 P25:  4.68387 Median:  5.58009 P75:  6.33126 Max:  7.65274\n",
      "000060/000072   Mean: 31.52473 P25:  4.70810 Median:  5.58009 P75:  6.50323 Max: 1585.55627\n",
      "train loss = 27.748825\n",
      "000000/000021   Mean:  7.09542 P25:  7.09542 Median:  7.09542 P75:  7.09542 Max:  7.09542\n",
      "000020/000021   Mean:  8.73733 P25:  7.49150 Median:  8.86987 P75:  9.80182 Max: 11.74941\n",
      "val loss = 8.764699\n",
      "Epoch 10.000000 / 23.000000\n",
      "000000/000072   Mean:  4.35958 P25:  4.35958 Median:  4.35958 P75:  4.35958 Max:  4.35958\n",
      "000020/000072   Mean:  5.33181 P25:  4.35958 Median:  5.39327 P75:  5.98413 Max:  6.98823\n",
      "000040/000072   Mean:  5.56039 P25:  4.68463 Median:  5.43150 P75:  6.64049 Max:  8.26235\n",
      "000060/000072   Mean:  5.55739 P25:  4.68463 Median:  5.52607 P75:  6.20191 Max:  8.26235\n",
      "train loss = 27.745661\n",
      "000000/000021   Mean:  9.57463 P25:  9.57463 Median:  9.57463 P75:  9.57463 Max:  9.57463\n",
      "000020/000021   Mean:  8.80637 P25:  7.28937 Median:  9.18950 P75: 10.09279 Max: 12.93115\n",
      "val loss = 8.789350\n",
      "Epoch 11.000000 / 23.000000\n",
      "000000/000072   Mean:  5.82756 P25:  5.82756 Median:  5.82756 P75:  5.82756 Max:  5.82756\n",
      "000020/000072   Mean: 80.70149 P25:  4.71665 Median:  5.13914 P75:  6.19960 Max: 1587.83142\n",
      "000040/000072   Mean: 44.19085 P25:  4.95007 Median:  5.68913 P75:  6.48666 Max: 1587.83142\n",
      "000060/000072   Mean: 31.50656 P25:  4.81600 Median:  5.64122 P75:  6.45790 Max: 1587.83142\n",
      "train loss = 27.742838\n",
      "000000/000021   Mean:  9.54735 P25:  9.54735 Median:  9.54735 P75:  9.54735 Max:  9.54735\n",
      "000020/000021   Mean:  8.79602 P25:  7.97455 Median:  8.94072 P75:  9.58245 Max: 10.57164\n",
      "val loss = 8.804630\n",
      "Epoch 12.000000 / 23.000000\n",
      "000000/000072   Mean:  4.34594 P25:  4.34594 Median:  4.34594 P75:  4.34594 Max:  4.34594\n",
      "000020/000072   Mean:  5.44039 P25:  4.44684 Median:  5.34859 P75:  6.53453 Max:  7.04611\n",
      "000040/000072   Mean:  5.56557 P25:  4.44684 Median:  5.43801 P75:  6.53453 Max:  8.68243\n",
      "000060/000072   Mean: 31.58997 P25:  4.80888 Median:  5.43801 P75:  6.53453 Max: 1589.19067\n",
      "train loss = 27.742910\n",
      "000000/000021   Mean: 10.08727 P25: 10.08727 Median: 10.08727 P75: 10.08727 Max: 10.08727\n",
      "000020/000021   Mean:  8.76390 P25:  7.77594 Median:  8.83305 P75:  9.72799 Max: 11.34726\n",
      "val loss = 8.722542\n",
      "Epoch 13.000000 / 23.000000\n",
      "000000/000072   Mean:  7.98815 P25:  7.98815 Median:  7.98815 P75:  7.98815 Max:  7.98815\n",
      "000020/000072   Mean:  5.55479 P25:  4.99911 Median:  5.62567 P75:  6.19155 Max:  7.98815\n",
      "000040/000072   Mean:  5.50203 P25:  4.99298 Median:  5.80138 P75:  6.19155 Max:  7.98815\n",
      "000060/000072   Mean: 31.56479 P25:  5.01184 Median:  5.75583 P75:  6.38979 Max: 1588.63391\n",
      "train loss = 27.739609\n",
      "000000/000021   Mean:  9.99040 P25:  9.99040 Median:  9.99040 P75:  9.99040 Max:  9.99040\n",
      "000020/000021   Mean:  8.85019 P25:  8.09710 Median:  9.02929 P75:  9.88390 Max: 11.09521\n",
      "val loss = 8.811522\n",
      "Epoch 14.000000 / 23.000000\n",
      "000000/000072   Mean:  4.49675 P25:  4.49675 Median:  4.49675 P75:  4.49675 Max:  4.49675\n",
      "000020/000072   Mean:  5.49707 P25:  4.58751 Median:  5.28821 P75:  6.02649 Max:  7.54559\n",
      "000040/000072   Mean: 44.16432 P25:  4.88614 Median:  5.44794 P75:  6.29007 Max: 1587.90564\n",
      "000060/000072   Mean: 31.55211 P25:  4.84312 Median:  5.44794 P75:  6.49902 Max: 1587.90564\n",
      "train loss = 27.738025\n",
      "000000/000021   Mean:  9.35855 P25:  9.35855 Median:  9.35855 P75:  9.35855 Max:  9.35855\n",
      "000020/000021   Mean:  8.74230 P25:  8.09321 Median:  8.70229 P75:  9.35855 Max: 10.55054\n",
      "val loss = 8.707123\n",
      "Epoch 15.000000 / 23.000000\n",
      "000000/000072   Mean:  5.38454 P25:  5.38454 Median:  5.38454 P75:  5.38454 Max:  5.38454\n",
      "000020/000072   Mean:  5.63631 P25:  4.56631 Median:  5.71872 P75:  6.27950 Max:  7.84703\n",
      "000040/000072   Mean: 44.12282 P25:  4.69236 Median:  5.52979 P75:  6.09691 Max: 1587.93933\n",
      "000060/000072   Mean: 31.60572 P25:  4.67031 Median:  5.52979 P75:  6.27950 Max: 1587.93933\n",
      "train loss = 27.735887\n",
      "000000/000021   Mean:  8.35534 P25:  8.35534 Median:  8.35534 P75:  8.35534 Max:  8.35534\n",
      "000020/000021   Mean:  8.74154 P25:  8.33727 Median:  8.69518 P75:  9.23547 Max: 11.06252\n",
      "val loss = 8.742812\n",
      "Epoch 16.000000 / 23.000000\n",
      "000000/000072   Mean:  5.51850 P25:  5.51850 Median:  5.51850 P75:  5.51850 Max:  5.51850\n",
      "000020/000072   Mean:  5.62324 P25:  4.98524 Median:  5.60587 P75:  6.45064 Max:  6.94336\n",
      "000040/000072   Mean:  5.63946 P25:  4.88989 Median:  5.60587 P75:  6.54033 Max:  7.60670\n",
      "000060/000072   Mean:  5.64171 P25:  4.88989 Median:  5.52216 P75:  6.54033 Max:  7.60670\n",
      "train loss = 27.738436\n",
      "000000/000021   Mean:  6.76653 P25:  6.76653 Median:  6.76653 P75:  6.76653 Max:  6.76653\n",
      "000020/000021   Mean:  8.67969 P25:  7.45627 Median:  8.19318 P75:  9.98772 Max: 11.61510\n",
      "val loss = 8.711916\n",
      "Epoch 17.000000 / 23.000000\n",
      "000000/000072   Mean:  3.88439 P25:  3.88439 Median:  3.88439 P75:  3.88439 Max:  3.88439\n",
      "000020/000072   Mean:  5.42041 P25:  4.49229 Median:  5.46323 P75:  6.24316 Max:  7.76553\n",
      "000040/000072   Mean: 44.14624 P25:  4.75370 Median:  5.63843 P75:  6.29989 Max: 1587.73938\n",
      "000060/000072   Mean: 31.53637 P25:  4.75370 Median:  5.71271 P75:  6.38010 Max: 1587.73938\n",
      "train loss = 27.735462\n",
      "000000/000021   Mean:  6.35377 P25:  6.35377 Median:  6.35377 P75:  6.35377 Max:  6.35377\n",
      "000020/000021   Mean:  8.75958 P25:  7.85768 Median:  8.99962 P75:  9.44701 Max: 12.01553\n",
      "val loss = 8.765227\n",
      "Epoch 18.000000 / 23.000000\n",
      "000000/000072   Mean:  6.25996 P25:  6.25996 Median:  6.25996 P75:  6.25996 Max:  6.25996\n",
      "000020/000072   Mean: 81.30630 P25:  4.82215 Median:  6.10531 P75:  6.96108 Max: 1589.45972\n",
      "000040/000072   Mean: 44.20683 P25:  4.64127 Median:  5.69126 P75:  6.47954 Max: 1589.45972\n",
      "000060/000072   Mean: 31.52448 P25:  4.59012 Median:  5.67480 P75:  6.65172 Max: 1589.45972\n",
      "train loss = 27.736572\n",
      "000000/000021   Mean:  9.27204 P25:  9.27204 Median:  9.27204 P75:  9.27204 Max:  9.27204\n",
      "000020/000021   Mean:  8.76234 P25:  8.12083 Median:  8.59214 P75:  9.27204 Max: 12.16389\n",
      "val loss = 8.743255\n",
      "Epoch 19.000000 / 23.000000\n",
      "000000/000072   Mean:  6.51754 P25:  6.51754 Median:  6.51754 P75:  6.51754 Max:  6.51754\n",
      "000020/000072   Mean: 81.25340 P25:  5.48349 Median:  6.14225 P75:  6.96097 Max: 1587.32959\n",
      "000040/000072   Mean: 44.48245 P25:  5.00587 Median:  6.05485 P75:  6.67922 Max: 1587.32959\n",
      "000060/000072   Mean: 31.64462 P25:  4.77314 Median:  6.03786 P75:  6.67922 Max: 1587.32959\n",
      "train loss = 27.733415\n",
      "000000/000021   Mean:  8.28571 P25:  8.28571 Median:  8.28571 P75:  8.28571 Max:  8.28571\n",
      "000020/000021   Mean:  8.72421 P25:  7.68269 Median:  8.41398 P75:  9.60583 Max: 12.36065\n",
      "val loss = 8.732749\n",
      "Epoch 20.000000 / 23.000000\n",
      "000000/000072   Mean:  6.77161 P25:  6.77161 Median:  6.77161 P75:  6.77161 Max:  6.77161\n",
      "000020/000072   Mean:  5.61970 P25:  4.94938 Median:  5.65240 P75:  6.59679 Max:  8.07705\n",
      "000040/000072   Mean: 44.27145 P25:  4.87749 Median:  5.65240 P75:  6.77400 Max: 1587.74243\n",
      "000060/000072   Mean: 31.59235 P25:  4.94461 Median:  5.61594 P75:  6.75551 Max: 1587.74243\n",
      "train loss = 27.735297\n",
      "000000/000021   Mean:  8.96494 P25:  8.96494 Median:  8.96494 P75:  8.96494 Max:  8.96494\n",
      "000020/000021   Mean:  8.62848 P25:  8.20402 Median:  8.86469 P75:  9.21861 Max: 11.60054\n",
      "val loss = 8.760269\n",
      "Epoch 21.000000 / 23.000000\n",
      "000000/000072   Mean:  5.81208 P25:  5.81208 Median:  5.81208 P75:  5.81208 Max:  5.81208\n",
      "000020/000072   Mean: 80.68704 P25:  4.43862 Median:  5.00577 P75:  6.46604 Max: 1585.87329\n",
      "000040/000072   Mean: 44.07292 P25:  4.56131 Median:  5.43047 P75:  6.45858 Max: 1585.87329\n",
      "000060/000072   Mean: 31.58574 P25:  4.56131 Median:  5.77876 P75:  6.70720 Max: 1585.87329\n",
      "train loss = 27.734443\n",
      "000000/000021   Mean:  7.74709 P25:  7.74709 Median:  7.74709 P75:  7.74709 Max:  7.74709\n",
      "000020/000021   Mean:  8.67005 P25:  7.73209 Median:  8.91349 P75:  9.58655 Max: 11.50592\n",
      "val loss = 8.770159\n",
      "Epoch 22.000000 / 23.000000\n",
      "000000/000072   Mean:  6.88709 P25:  6.88709 Median:  6.88709 P75:  6.88709 Max:  6.88709\n",
      "000020/000072   Mean: 80.97441 P25:  5.21448 Median:  5.71481 P75:  6.38237 Max: 1586.82629\n",
      "000040/000072   Mean: 44.14814 P25:  4.74364 Median:  5.41673 P75:  6.24526 Max: 1586.82629\n",
      "000060/000072   Mean: 31.54528 P25:  4.79281 Median:  5.41673 P75:  6.38237 Max: 1586.82629\n",
      "train loss = 27.732673\n",
      "000000/000021   Mean: 10.42805 P25: 10.42805 Median: 10.42805 P75: 10.42805 Max: 10.42805\n",
      "000020/000021   Mean:  8.76982 P25:  7.61328 Median:  8.56876 P75:  9.87599 Max: 11.25715\n",
      "val loss = 8.782427\n",
      "Epoch 23.000000 / 23.000000\n",
      "000000/000072   Mean:  6.92096 P25:  6.92096 Median:  6.92096 P75:  6.92096 Max:  6.92096\n",
      "000020/000072   Mean: 81.12000 P25:  4.67110 Median:  5.96761 P75:  6.85583 Max: 1586.33398\n",
      "000040/000072   Mean: 44.39069 P25:  4.67577 Median:  5.94502 P75:  6.85583 Max: 1586.33398\n",
      "000060/000072   Mean: 31.64379 P25:  4.89776 Median:  5.94502 P75:  6.60880 Max: 1586.33398\n",
      "train loss = 27.733374\n",
      "000000/000021   Mean:  8.79169 P25:  8.79169 Median:  8.79169 P75:  8.79169 Max:  8.79169\n",
      "000020/000021   Mean:  8.86932 P25:  7.71558 Median:  8.79169 P75:  9.63752 Max: 11.54806\n",
      "val loss = 8.804396\n",
      "Training complete in 57 minutes\n"
     ]
    }
   ],
   "source": [
    "# TRAIN MODEL\n",
    "model = sw_net\n",
    "scheduler = exp_lr_scheduler\n",
    "\n",
    "training_time = time.time()\n",
    "\n",
    "best_weights = copy.deepcopy(model.state_dict())\n",
    "train_loss_list = []\n",
    "val_loss_list = []\n",
    "\n",
    "for epoch in range(n_epochs):\n",
    "    print(\"Epoch %f / %f\" % (epoch, n_epochs - 1))\n",
    "    for phase in [\"train\", \"val\"]:\n",
    "        # set the model in training or evaluation state\n",
    "        if phase == \"train\":\n",
    "            scheduler.step()\n",
    "            model.train()\n",
    "        else:\n",
    "            model.eval()\n",
    "\n",
    "        running_loss = 0\n",
    "        running_count = 0\n",
    "\n",
    "        phase_losses = []\n",
    "        for batchI, (inputs, labels) in enumerate(sw_dataloaders[phase]):\n",
    "            inputs = inputs.to(device)\n",
    "            labels = labels.to(device)\n",
    "\n",
    "            # zero the parameter gradients\n",
    "            optimizer.zero_grad()\n",
    "\n",
    "            # forward  track only for train phase\n",
    "            with torch.set_grad_enabled(phase == \"train\"):\n",
    "                outputs = model(inputs)\n",
    "                loss = criterion(outputs, labels)\n",
    "\n",
    "            # backward + optimize if in training phase\n",
    "            if phase == \"train\":\n",
    "                loss.backward()\n",
    "                torch.nn.utils.clip_grad_norm_(model.parameters(), 0.5)\n",
    "                optimizer.step()\n",
    "\n",
    "            # record loss statistics\n",
    "            running_loss += loss.item() * inputs.size(0)\n",
    "            running_count += inputs.size(0)\n",
    "            phase_losses.append(loss.item())\n",
    "\n",
    "            # print Batch statistics\n",
    "            if batchI % 20 == 0:\n",
    "                print(\"%06d/%06d\" % (batchI, len(sw_dataloaders[phase])), end=\"\")\n",
    "                print(\n",
    "                    \"   Mean: %8.5f P25: %8.5f Median: %8.5f P75: %8.5f Max: %8.5f\"\n",
    "                    % (\n",
    "                        sum(phase_losses) / len(phase_losses),\n",
    "                        np.percentile(phase_losses, 25),\n",
    "                        np.median(phase_losses),\n",
    "                        np.percentile(phase_losses, 75),\n",
    "                        max(phase_losses),\n",
    "                    )\n",
    "                )\n",
    "\n",
    "        # Sum Epoch Loss\n",
    "        epoch_loss = running_loss / dataset_sizes[phase]\n",
    "        print(\"%s loss = %f\" % (phase, epoch_loss))\n",
    "        if phase == \"train\":\n",
    "            train_loss_list.append(epoch_loss)\n",
    "        else:\n",
    "            val_loss_list.append(epoch_loss)\n",
    "\n",
    "        # take first loss as reference at first epoch\n",
    "        if phase == \"val\" and epoch == 0:\n",
    "            worst_loss = epoch_loss\n",
    "\n",
    "        # keep track of best weights if model improves on validation set\n",
    "        if phase == \"val\" and epoch_loss < worst_loss:\n",
    "            best_weights = copy.deepcopy(model.state_dict())\n",
    "            worst_loss = epoch_loss\n",
    "\n",
    "# load best weights into model\n",
    "model.load_state_dict(best_weights)\n",
    "train_loss = np.asarray(train_loss_list)\n",
    "val_loss = np.asarray(val_loss_list)\n",
    "\n",
    "training_time = time.time() - training_time\n",
    "print(\"Training complete in %.0f minutes\" % (training_time / 60))"
   ]
  },
  {
   "cell_type": "code",
   "execution_count": 33,
   "id": "67861fe7",
   "metadata": {},
   "outputs": [
    {
     "data": {
      "image/png": "[encoded data removed]",
      "text/plain": [
       "<Figure size 1000x500 with 1 Axes>"
      ]
     },
     "metadata": {},
     "output_type": "display_data"
    }
   ],
   "source": [
    "plt.figure(figsize=(10, 5))\n",
    "plt.plot(train_loss, label=\"Train Loss\")\n",
    "plt.plot(val_loss, label=\"Validation Loss\")\n",
    "plt.xlabel(\"Epoch\")\n",
    "plt.ylabel(\"Loss\")\n",
    "plt.title(\"Training and Validation Loss\")\n",
    "plt.legend()\n",
    "plt.grid()\n",
    "plt.show()"
   ]
  },
  {
   "cell_type": "code",
   "execution_count": 35,
   "id": "a6c3b80e",
   "metadata": {},
   "outputs": [],
   "source": [
    "### save net, losses and info in corresponding net directory\n",
    "torch.save(model, model_file)\n",
    "\n",
    "np.save(target_path / \"train_loss.npy\", train_loss)\n",
    "np.save(target_path / \"val_loss.npy\", val_loss)"
   ]
  },
  {
   "cell_type": "code",
   "execution_count": 36,
   "id": "f31bb913",
   "metadata": {},
   "outputs": [],
   "source": [
    "net_name = config_file.stem\n",
    "\n",
    "F = open(log_file, \"w\")\n",
    "\n",
    "F.write(\"Info and hyperparameters for \" + net_name + \"\\n\")\n",
    "F.write(\"Loss : \" + str(criterion) + \"\\n\")\n",
    "F.write(\"Optimizer : \" + str(optimizer) + \"\\n\")\n",
    "F.write(\n",
    "    \"Scheduler : \"\n",
    "    + str(exp_lr_scheduler)\n",
    "    + \", step_size : \"\n",
    "    + str(exp_lr_scheduler.step_size)\n",
    "    + \", gamma : \"\n",
    "    + str(exp_lr_scheduler.gamma)\n",
    "    + \"\\n\"\n",
    ")\n",
    "F.write(\"Number of epochs : \" + str(n_epochs) + \"\\n\")\n",
    "F.write(\"Batch size : \" + str(batch_size) + \"\\n\")\n",
    "F.write(\"Image resolution :\" + str(resolution) + \"\\n\")\n",
    "F.write(\"Training time : \" + str(training_time) + \"s\")\n",
    "F.write(\"Net architecture : \\n\" + str(sw_net))\n",
    "F.close()"
   ]
  },
  {
   "cell_type": "code",
   "execution_count": null,
   "id": "f0842817",
   "metadata": {},
   "outputs": [],
   "source": []
  }
 ],
 "metadata": {
  "kernelspec": {
   "display_name": "roses",
   "language": "python",
   "name": "python3"
  },
  "language_info": {
   "codemirror_mode": {
    "name": "ipython",
    "version": 3
   },
   "file_extension": ".py",
   "mimetype": "text/x-python",
   "name": "python",
   "nbconvert_exporter": "python",
   "pygments_lexer": "ipython3",
   "version": "3.13.5"
  }
 },
 "nbformat": 4,
 "nbformat_minor": 5
}
