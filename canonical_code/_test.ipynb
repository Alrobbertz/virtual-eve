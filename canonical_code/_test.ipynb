{
 "cells": [
  {
   "cell_type": "code",
   "execution_count": 1,
   "id": "5993c186",
   "metadata": {},
   "outputs": [],
   "source": [
    "import copy\n",
    "import json\n",
    "import os\n",
    "import time\n",
    "from datetime import datetime\n",
    "from pathlib import Path\n",
    "\n",
    "import matplotlib.pyplot as plt\n",
    "import numpy as np\n",
    "import torch\n",
    "import torch.nn as nn\n",
    "import torch.optim as optim\n",
    "from scipy.special import logit\n",
    "from torchvision import models, transforms"
   ]
  },
  {
   "cell_type": "code",
   "execution_count": 2,
   "id": "491b7064",
   "metadata": {},
   "outputs": [],
   "source": [
    "import alt_models\n",
    "from setup_residual_totirr import (addOne, applySGDmodel, cvSGDH,\n",
    "                                   fitSGDR_Huber, getEVEInd, getNormalize,\n",
    "                                   getResid, getXy, handleStd)\n",
    "from util.SW_Dataset_bakeoff_totirr import SW_Dataset"
   ]
  },
  {
   "cell_type": "code",
   "execution_count": 3,
   "id": "c67bb79f",
   "metadata": {},
   "outputs": [
    {
     "name": "stdout",
     "output_type": "stream",
     "text": [
      "Using device: mps\n"
     ]
    }
   ],
   "source": [
    "# Check if MPS is available\n",
    "device = torch.device(\"mps\" if torch.backends.mps.is_available() else \"cpu\")\n",
    "print(f\"Using device: {device}\")\n",
    "\n",
    "# For future tensor operations, remember to create or move tensors to this device\n",
    "# Example: x = torch.randn(3, 3, device=device)"
   ]
  },
  {
   "cell_type": "code",
   "execution_count": 4,
   "id": "5eb8db68",
   "metadata": {},
   "outputs": [],
   "source": [
    "root = Path(\"/Users/andrewrobbertz/__SOC_CODE__/_data_/SDO/\")\n",
    "download_dir = root / \"downloads\"\n",
    "experiments_dir = root / \"experiments\"\n",
    "\n",
    "assert download_dir.exists(), f\"Download directory {download_dir} does not exist.\"\n",
    "assert (\n",
    "    experiments_dir.exists()\n",
    "), f\"Experiments directory {experiments_dir} does not exist.\""
   ]
  },
  {
   "cell_type": "code",
   "execution_count": 5,
   "id": "1291edb1",
   "metadata": {},
   "outputs": [],
   "source": [
    "data_root = experiments_dir\n",
    "eve_root = data_root / \"EVE\""
   ]
  },
  {
   "cell_type": "code",
   "execution_count": 6,
   "id": "ad46aaec",
   "metadata": {},
   "outputs": [],
   "source": [
    "target_path = data_root / \"results_anet_3_bn_15_20250718_145902\"\n",
    "target_path.mkdir(parents=True, exist_ok=True)"
   ]
  },
  {
   "cell_type": "code",
   "execution_count": 7,
   "id": "a866df23",
   "metadata": {},
   "outputs": [],
   "source": [
    "config_dir = Path.cwd().parent / \"config\"\n",
    "assert config_dir.exists(), f\"Config directory {config_dir} does not exist.\"\n",
    "\n",
    "# Get the first JSON config file in the directory\n",
    "config_file = list(config_dir.glob(\"*.json\"))[0]\n",
    "\n",
    "cfg = {}\n",
    "with open(config_file, \"r\") as f:\n",
    "    cfg = json.load(f)"
   ]
  },
  {
   "cell_type": "code",
   "execution_count": 8,
   "id": "57652185",
   "metadata": {},
   "outputs": [],
   "source": [
    "model_file = target_path / f\"{config_file.stem}_model.pt\"\n",
    "assert model_file.exists(), f\"Model file {model_file} does not exist.\""
   ]
  },
  {
   "cell_type": "code",
   "execution_count": 9,
   "id": "2333b3d6",
   "metadata": {},
   "outputs": [],
   "source": [
    "preds_file = target_path / f\"{config_file.stem}_preds.npy\""
   ]
  },
  {
   "cell_type": "code",
   "execution_count": 10,
   "id": "3e0f02a1",
   "metadata": {},
   "outputs": [],
   "source": [
    "phase = \"test\"\n",
    "phase_abr = \"Te\""
   ]
  },
  {
   "cell_type": "code",
   "execution_count": 11,
   "id": "7fa79fd0",
   "metadata": {},
   "outputs": [],
   "source": [
    "sw_net = torch.load(model_file, weights_only=False)\n",
    "\n",
    "# Move model to the device\n",
    "sw_net = sw_net.to(device)"
   ]
  },
  {
   "cell_type": "code",
   "execution_count": 12,
   "id": "62118a03",
   "metadata": {},
   "outputs": [],
   "source": [
    "EVE_path = data_root / \"irradiance_30mn_residual_14ptot.npy\"\n",
    "EVE_path_orig = data_root / \"irradiance_30mn_14ptot.npy\"\n",
    "assert EVE_path.exists(), f\"EVE data file {EVE_path} does not exist.\"\n",
    "assert EVE_path_orig.exists(), f\"EVE original data file {EVE_path_orig}\""
   ]
  },
  {
   "cell_type": "code",
   "execution_count": 13,
   "id": "a31f19a7",
   "metadata": {},
   "outputs": [],
   "source": [
    "model = np.load(data_root / \"residual_initial_model.npz\")\n",
    "feats = np.load(data_root / \"mean_std_feats.npz\")"
   ]
  },
  {
   "cell_type": "code",
   "execution_count": 14,
   "id": "16f5e641",
   "metadata": {},
   "outputs": [],
   "source": [
    "def addOne(X):\n",
    "    return np.concatenate([X, np.ones((X.shape[0], 1))], axis=1)\n",
    "\n",
    "\n",
    "XTe = addOne((feats[\"X\" + phase_abr] - model[\"mu\"]) / model[\"sig\"])\n",
    "initialPredict = np.dot(XTe, model[\"model\"].T)"
   ]
  },
  {
   "cell_type": "code",
   "execution_count": 15,
   "id": "3de05e18",
   "metadata": {},
   "outputs": [],
   "source": [
    "crop = False\n",
    "flip = False\n",
    "batch_size = 64\n",
    "resolution = 256\n",
    "crop_res = 240\n",
    "zscore = cfg[\"zscore\"]"
   ]
  },
  {
   "cell_type": "code",
   "execution_count": 16,
   "id": "cf4eb858",
   "metadata": {},
   "outputs": [],
   "source": [
    "if zscore:  # we apply whatever scaling if zscore is on\n",
    "    aia_mean = np.load(data_root / \"aia_sqrt_mean.npy\")\n",
    "    aia_std = np.load(data_root / \"aia_sqrt_std.npy\")\n",
    "    aia_transform = transforms.Compose(\n",
    "        [transforms.Normalize(tuple(aia_mean), tuple(aia_std))]\n",
    "    )\n",
    "else:  # we don't sqrt and just divide by the means. just need to trick the transform\n",
    "    aia_mean = np.load(data_root / \"aia_mean.npy\")\n",
    "    aia_std = np.load(data_root / \"aia_std.npy\")\n",
    "    aia_transform = transforms.Compose(\n",
    "        [transforms.Normalize(tuple(aia_mean), tuple(aia_std))]\n",
    "    )"
   ]
  },
  {
   "cell_type": "code",
   "execution_count": 17,
   "id": "988b0654",
   "metadata": {},
   "outputs": [
    {
     "name": "stdout",
     "output_type": "stream",
     "text": [
      "Loaded test Dataset with 655 examples\n",
      "Loaded test Dataset with 655 examples\n"
     ]
    }
   ],
   "source": [
    "### Dataset & Dataloader for test\n",
    "\n",
    "test_real = SW_Dataset(\n",
    "    EVE_path=EVE_path_orig,\n",
    "    AIA_root=str(data_root / \"AIA\") + \"/\",\n",
    "    index_file=str(data_root) + \"/\",\n",
    "    resolution=resolution,\n",
    "    EVE_scale=cfg[\"eve_transform\"],\n",
    "    EVE_sigmoid=cfg[\"eve_sigmoid\"],\n",
    "    split=phase,\n",
    "    AIA_transform=aia_transform,\n",
    "    crop=crop,\n",
    "    flip=flip,\n",
    "    crop_res=crop_res,\n",
    "    zscore=zscore,\n",
    "    self_mean_normalize=True,\n",
    ")\n",
    "\n",
    "sw_datasets = {\n",
    "    x: SW_Dataset(\n",
    "        EVE_path=EVE_path,\n",
    "        AIA_root=str(data_root / \"AIA\") + \"/\",\n",
    "        index_file=str(data_root) + \"/\",\n",
    "        resolution=resolution,\n",
    "        EVE_scale=cfg[\"eve_transform\"],\n",
    "        EVE_sigmoid=cfg[\"eve_sigmoid\"],\n",
    "        split=x,\n",
    "        AIA_transform=aia_transform,\n",
    "        flip=flip,\n",
    "        crop=crop,\n",
    "        crop_res=crop_res,\n",
    "        zscore=zscore,\n",
    "        self_mean_normalize=True,\n",
    "    )\n",
    "    for x in [phase]\n",
    "}\n",
    "sw_dataloaders = {\n",
    "    x: torch.utils.data.DataLoader(\n",
    "        sw_datasets[x], batch_size=batch_size, shuffle=False, num_workers=8\n",
    "    )\n",
    "    for x in [phase]\n",
    "}\n",
    "dataset_sizes = {x: len(sw_datasets[x]) for x in [phase]}"
   ]
  },
  {
   "cell_type": "code",
   "execution_count": 18,
   "id": "d85e08c5",
   "metadata": {},
   "outputs": [],
   "source": [
    "DS = sw_datasets[phase]"
   ]
  },
  {
   "cell_type": "code",
   "execution_count": 19,
   "id": "0687582e",
   "metadata": {},
   "outputs": [
    {
     "name": "stdout",
     "output_type": "stream",
     "text": [
      "000000/000011\n"
     ]
    }
   ],
   "source": [
    "# TEST MODEL\n",
    "\n",
    "outputs = []\n",
    "for batchI, (inputs, _) in enumerate(sw_dataloaders[phase]):\n",
    "    if batchI % 20 == 0:\n",
    "        print(\"%06d/%06d\" % (batchI, len(sw_dataloaders[phase])))\n",
    "\n",
    "    # Set to GPU\n",
    "    inputs = inputs.to(device)\n",
    "\n",
    "    # Run Model on Test Inputs\n",
    "    output = sw_net(inputs)\n",
    "    output = output.cpu().detach().numpy()\n",
    "    outputs.append(output)\n",
    "\n",
    "prediction = np.concatenate(outputs, axis=0)"
   ]
  },
  {
   "cell_type": "code",
   "execution_count": 20,
   "id": "057230a1",
   "metadata": {},
   "outputs": [],
   "source": [
    "def eve_unscale(y, mean, std, nonlinearity, sigmoid, zscore):\n",
    "\n",
    "    if zscore:\n",
    "        y = y * std + mean\n",
    "        if sigmoid:\n",
    "            y = logit(y)\n",
    "        if nonlinearity == \"sqrt\":\n",
    "            y = np.power(y, 2)\n",
    "        elif nonlinearity == \"log\":\n",
    "            y = np.expm1(y)\n",
    "    else:\n",
    "        y *= mean\n",
    "\n",
    "    return y\n",
    "\n",
    "\n",
    "prediction = prediction / 100\n",
    "prediction_us = eve_unscale(\n",
    "    prediction,\n",
    "    DS.EVE_means,\n",
    "    DS.EVE_stds,\n",
    "    cfg[\"eve_transform\"],\n",
    "    cfg[\"eve_sigmoid\"],\n",
    "    zscore,\n",
    ")"
   ]
  },
  {
   "cell_type": "code",
   "execution_count": 21,
   "id": "73b9c2e2",
   "metadata": {},
   "outputs": [],
   "source": [
    "absErrorPointwise = np.abs(prediction_us - DS.EVE) / DS.EVE\n",
    "absErrorPointwise[DS.EVE <= 0] = np.nan\n",
    "\n",
    "NP = initialPredict + prediction_us\n",
    "\n",
    "PR = np.abs(initialPredict - test_real.EVE) / test_real.EVE\n",
    "PR[test_real.EVE < 0] = np.nan\n",
    "absErrorLin = np.nanmean(PR, axis=0)\n",
    "\n",
    "NPR = np.abs(NP - test_real.EVE) / test_real.EVE\n",
    "NPR[test_real.EVE < 0] = np.nan\n",
    "absError = np.nanmean(NPR, axis=0)"
   ]
  },
  {
   "cell_type": "code",
   "execution_count": 22,
   "id": "67d08106",
   "metadata": {},
   "outputs": [
    {
     "name": "stdout",
     "output_type": "stream",
     "text": [
      "Initial\n",
      "Min: 0.0041 Mean: 0.0736 Median: 0.0118 Max: 0.8951\n",
      "[0.01389342 0.00727156 0.03054737 0.00775948 0.00413974 0.01126448\n",
      " 0.01842462 0.01735587 0.00771773 0.01175596 0.00620152 0.01278114\n",
      " 0.04777002 0.01131847 0.89507912]\n"
     ]
    }
   ],
   "source": [
    "print(\"Initial\")\n",
    "summaryStats = \"Min: %.4f Mean: %.4f Median: %.4f Max: %.4f\" % (\n",
    "    np.min(absErrorLin),\n",
    "    np.mean(absErrorLin),\n",
    "    np.median(absErrorLin),\n",
    "    np.max(absErrorLin),\n",
    ")\n",
    "print(summaryStats)\n",
    "print(absErrorLin)"
   ]
  },
  {
   "cell_type": "code",
   "execution_count": 23,
   "id": "d388a8c0",
   "metadata": {},
   "outputs": [],
   "source": [
    "def getResid(y, yp, mask, flare=None, flarePct=0.975):\n",
    "    resid = np.abs(y - yp)\n",
    "    resid = resid / np.abs(y) * 100\n",
    "    resid[mask] = np.nan\n",
    "    if flare is None:\n",
    "        return np.nanmean(resid, axis=0)\n",
    "    else:\n",
    "        N = y.shape[0]\n",
    "        FeXX = y[:, 2]\n",
    "        order = np.argsort(FeXX)\n",
    "        cutoff = int(y.shape[0] * flarePct)\n",
    "        if flare:\n",
    "            keep = order[cutoff:]\n",
    "        else:\n",
    "            keep = order[:cutoff]\n",
    "        return np.nanmean(resid[keep, :], axis=0)\n",
    "\n",
    "\n",
    "def printErrors(R, eve_root):\n",
    "    names = np.load(os.path.join(eve_root, \"name.npy\"), allow_pickle=True)\n",
    "    inds = [0, 1, 2, 3, 4, 5, 6, 7, 8, 9, 10, 11, 12, 14]\n",
    "    names = names[inds]\n",
    "    names = np.append(names, \"tot_irr_megsa\")\n",
    "    for i in range(R.shape[0]):\n",
    "        if i != 0:\n",
    "            print(\"; \", end=\" \"),\n",
    "        print(\"%s: %.2f%%\" % (names[i].strip(), R[i]), end=\" \")\n",
    "    print(\"\")\n",
    "\n",
    "\n",
    "def print_analysis(y, yp, mask, eve_root):\n",
    "    print(\"Overall\")\n",
    "    printErrors(getResid(y, yp, mask), eve_root)\n",
    "    print(\"Flare\")\n",
    "    printErrors(getResid(y, yp, mask, flare=True), eve_root)\n",
    "    print(\"Non-Flare\")\n",
    "    printErrors(getResid(y, yp, mask, flare=False), eve_root)"
   ]
  },
  {
   "cell_type": "code",
   "execution_count": 24,
   "id": "5632797c",
   "metadata": {},
   "outputs": [
    {
     "name": "stdout",
     "output_type": "stream",
     "text": [
      "Overall\n",
      "Fe XVIII: 1.39% ;  Fe VIII: 0.73% ;  Fe XX: 3.05% ;  Fe IX: 0.78% ;  Fe X: 0.41% ;  Fe XI: 1.13% ;  Fe XII: 1.84% ;  Fe XIII: 1.74% ;  Fe XIV: 0.77% ;  He II: 1.18% ;  Fe XV: 0.62% ;  He II: 1.28% ;  Fe XVI: 4.78% ;  Mg IX: 1.13% ;  tot_irr_megsa: 89.51% \n",
      "Flare\n",
      "Fe XVIII: 1.29% ;  Fe VIII: 0.81% ;  Fe XX: 4.43% ;  Fe IX: 0.98% ;  Fe X: 0.39% ;  Fe XI: 1.22% ;  Fe XII: 2.03% ;  Fe XIII: 2.11% ;  Fe XIV: 0.94% ;  He II: 0.83% ;  Fe XV: 0.38% ;  He II: 1.03% ;  Fe XVI: 3.16% ;  Mg IX: 1.52% ;  tot_irr_megsa: 89.19% \n",
      "Non-Flare\n",
      "Fe XVIII: 1.39% ;  Fe VIII: 0.72% ;  Fe XX: 3.02% ;  Fe IX: 0.77% ;  Fe X: 0.41% ;  Fe XI: 1.12% ;  Fe XII: 1.84% ;  Fe XIII: 1.73% ;  Fe XIV: 0.77% ;  He II: 1.18% ;  Fe XV: 0.63% ;  He II: 1.28% ;  Fe XVI: 4.82% ;  Mg IX: 1.12% ;  tot_irr_megsa: 89.52% \n"
     ]
    }
   ],
   "source": [
    "print_analysis(test_real.EVE, initialPredict, test_real.EVE < 0, eve_root)"
   ]
  },
  {
   "cell_type": "code",
   "execution_count": 25,
   "id": "9743ec38",
   "metadata": {},
   "outputs": [
    {
     "name": "stdout",
     "output_type": "stream",
     "text": [
      "Min: 0.0033 Mean: 0.0740 Median: 0.0139 Max: 0.8944\n",
      "[0.01155196 0.00700821 0.03006637 0.0054195  0.00326835 0.00843606\n",
      " 0.01546556 0.01626483 0.00993826 0.01394866 0.01395916 0.01517291\n",
      " 0.05467673 0.0103037  0.89435785]\n",
      "Overall\n",
      "Fe XVIII: 1.16% ;  Fe VIII: 0.70% ;  Fe XX: 3.01% ;  Fe IX: 0.54% ;  Fe X: 0.33% ;  Fe XI: 0.84% ;  Fe XII: 1.55% ;  Fe XIII: 1.63% ;  Fe XIV: 0.99% ;  He II: 1.39% ;  Fe XV: 1.40% ;  He II: 1.52% ;  Fe XVI: 5.47% ;  Mg IX: 1.03% ;  tot_irr_megsa: 89.44% \n",
      "Flare\n",
      "Fe XVIII: 1.13% ;  Fe VIII: 0.63% ;  Fe XX: 3.39% ;  Fe IX: 0.67% ;  Fe X: 0.24% ;  Fe XI: 1.14% ;  Fe XII: 1.87% ;  Fe XIII: 2.04% ;  Fe XIV: 1.12% ;  He II: 1.21% ;  Fe XV: 0.92% ;  He II: 1.38% ;  Fe XVI: 4.00% ;  Mg IX: 1.31% ;  tot_irr_megsa: 89.13% \n",
      "Non-Flare\n",
      "Fe XVIII: 1.16% ;  Fe VIII: 0.70% ;  Fe XX: 3.00% ;  Fe IX: 0.54% ;  Fe X: 0.33% ;  Fe XI: 0.84% ;  Fe XII: 1.54% ;  Fe XIII: 1.62% ;  Fe XIV: 0.99% ;  He II: 1.40% ;  Fe XV: 1.41% ;  He II: 1.52% ;  Fe XVI: 5.51% ;  Mg IX: 1.02% ;  tot_irr_megsa: 89.45% \n"
     ]
    }
   ],
   "source": [
    "summaryStats = \"Min: %.4f Mean: %.4f Median: %.4f Max: %.4f\" % (\n",
    "    np.min(absError),\n",
    "    np.mean(absError),\n",
    "    np.median(absError),\n",
    "    np.max(absError),\n",
    ")\n",
    "print(summaryStats)\n",
    "print(absError)\n",
    "print_analysis(test_real.EVE, NP, test_real.EVE < 0, eve_root)"
   ]
  },
  {
   "cell_type": "code",
   "execution_count": 26,
   "id": "964a85a1",
   "metadata": {},
   "outputs": [],
   "source": [
    "resFile = open(\"%s/%s.txt\" % (target_path, config_file.stem), \"w\")\n",
    "resFile.write(summaryStats + \"\\n\")\n",
    "for i in range(15):\n",
    "    resFile.write(\"%.4f \" % absError[i])\n",
    "resFile.close()\n",
    "\n",
    "np.save(preds_file, NP)"
   ]
  },
  {
   "cell_type": "code",
   "execution_count": null,
   "id": "d585b52f",
   "metadata": {},
   "outputs": [],
   "source": []
  }
 ],
 "metadata": {
  "kernelspec": {
   "display_name": "roses",
   "language": "python",
   "name": "python3"
  },
  "language_info": {
   "codemirror_mode": {
    "name": "ipython",
    "version": 3
   },
   "file_extension": ".py",
   "mimetype": "text/x-python",
   "name": "python",
   "nbconvert_exporter": "python",
   "pygments_lexer": "ipython3",
   "version": "3.13.5"
  }
 },
 "nbformat": 4,
 "nbformat_minor": 5
}
